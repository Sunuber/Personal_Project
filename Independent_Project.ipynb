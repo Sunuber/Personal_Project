{
 "cells": [
  {
   "cell_type": "markdown",
   "id": "b54d75ca-bebb-4661-99f4-572385a1e12d",
   "metadata": {},
   "source": [
    "Drug Review Dataset"
   ]
  },
  {
   "cell_type": "markdown",
   "id": "262f47c6-dd96-49e9-a65c-5ef28a43a91b",
   "metadata": {},
   "source": [
    "In this dataset, I aim to understand which drugs and conditions are listed. I will map the drug with the condition and then tally drugs and conditions. \n",
    "\n",
    "I will attempt to answer:\n",
    "\n",
    "1. Are the drugs used more than once for a clinical indication? \n",
    "2. Which drugs are used for more than one condition?\n",
    "3. Which drugs are used for a wide range of clinical conditions?\n",
    "\n",
    "I will then look to take a deeper dive into the findings and categorise the reviews as either positive, negative or neutral. This will be acheived conducting a sentiment analysis. Reviews will be tokenized into words. Tokens will be categorized as one of either:\n",
    "\n",
    "1. postive,\n",
    "2. neutral or\n",
    "3. negative reviews\n",
    "\n",
    "Are certain drugs or even condtions more likely to yield a certain sentiment?"
   ]
  },
  {
   "cell_type": "markdown",
   "id": "c365a669-7c20-4e80-b434-97c82ec5a207",
   "metadata": {},
   "source": [
    "In the first instance I will conduct data preprocessing. My aim is to:\n",
    "1. remove NAs\n",
    "2. remove duplicates\n",
    "3. remove any values which are not wanted"
   ]
  },
  {
   "cell_type": "code",
   "execution_count": 3,
   "id": "3a86f49a-ca1b-4275-8c00-52c1b98a17dd",
   "metadata": {},
   "outputs": [],
   "source": [
    "import numpy as np\n",
    "import pandas as pd\n",
    "import seaborn as sns\n",
    "\n",
    "import math\n",
    "import matplotlib.pyplot as plt\n"
   ]
  },
  {
   "cell_type": "code",
   "execution_count": 4,
   "id": "837389fa-c436-407f-843a-ff39ca91d838",
   "metadata": {},
   "outputs": [],
   "source": [
    "drug_data_df=pd.read_csv(\"/Users/sunuber/Desktop/drugsdata.csv\")"
   ]
  },
  {
   "cell_type": "code",
   "execution_count": 5,
   "id": "e326a644-3d80-47a5-b361-8cbb66da800d",
   "metadata": {},
   "outputs": [
    {
     "data": {
      "text/html": [
       "<div>\n",
       "<style scoped>\n",
       "    .dataframe tbody tr th:only-of-type {\n",
       "        vertical-align: middle;\n",
       "    }\n",
       "\n",
       "    .dataframe tbody tr th {\n",
       "        vertical-align: top;\n",
       "    }\n",
       "\n",
       "    .dataframe thead th {\n",
       "        text-align: right;\n",
       "    }\n",
       "</style>\n",
       "<table border=\"1\" class=\"dataframe\">\n",
       "  <thead>\n",
       "    <tr style=\"text-align: right;\">\n",
       "      <th></th>\n",
       "      <th>uniqueID</th>\n",
       "      <th>drugName</th>\n",
       "      <th>condition</th>\n",
       "      <th>review</th>\n",
       "      <th>rating</th>\n",
       "      <th>date</th>\n",
       "      <th>usefulCount</th>\n",
       "    </tr>\n",
       "  </thead>\n",
       "  <tbody>\n",
       "    <tr>\n",
       "      <th>0</th>\n",
       "      <td>163740</td>\n",
       "      <td>Mirtazapine</td>\n",
       "      <td>Depression</td>\n",
       "      <td>\"I&amp;#039;ve tried a few antidepressants over th...</td>\n",
       "      <td>10</td>\n",
       "      <td>28-Feb-12</td>\n",
       "      <td>22</td>\n",
       "    </tr>\n",
       "    <tr>\n",
       "      <th>1</th>\n",
       "      <td>206473</td>\n",
       "      <td>Mesalamine</td>\n",
       "      <td>Crohn's Disease, Maintenance</td>\n",
       "      <td>\"My son has Crohn&amp;#039;s disease and has done ...</td>\n",
       "      <td>8</td>\n",
       "      <td>17-May-09</td>\n",
       "      <td>17</td>\n",
       "    </tr>\n",
       "    <tr>\n",
       "      <th>2</th>\n",
       "      <td>159672</td>\n",
       "      <td>Bactrim</td>\n",
       "      <td>Urinary Tract Infection</td>\n",
       "      <td>\"Quick reduction of symptoms\"</td>\n",
       "      <td>9</td>\n",
       "      <td>29-Sep-17</td>\n",
       "      <td>3</td>\n",
       "    </tr>\n",
       "    <tr>\n",
       "      <th>3</th>\n",
       "      <td>39293</td>\n",
       "      <td>Contrave</td>\n",
       "      <td>Weight Loss</td>\n",
       "      <td>\"Contrave combines drugs that were used for al...</td>\n",
       "      <td>9</td>\n",
       "      <td>5-Mar-17</td>\n",
       "      <td>35</td>\n",
       "    </tr>\n",
       "    <tr>\n",
       "      <th>4</th>\n",
       "      <td>97768</td>\n",
       "      <td>Cyclafem 1 / 35</td>\n",
       "      <td>Birth Control</td>\n",
       "      <td>\"I have been on this birth control for one cyc...</td>\n",
       "      <td>9</td>\n",
       "      <td>22-Oct-15</td>\n",
       "      <td>4</td>\n",
       "    </tr>\n",
       "  </tbody>\n",
       "</table>\n",
       "</div>"
      ],
      "text/plain": [
       "   uniqueID         drugName                     condition  \\\n",
       "0    163740      Mirtazapine                    Depression   \n",
       "1    206473       Mesalamine  Crohn's Disease, Maintenance   \n",
       "2    159672          Bactrim       Urinary Tract Infection   \n",
       "3     39293         Contrave                   Weight Loss   \n",
       "4     97768  Cyclafem 1 / 35                 Birth Control   \n",
       "\n",
       "                                              review  rating       date  \\\n",
       "0  \"I&#039;ve tried a few antidepressants over th...      10  28-Feb-12   \n",
       "1  \"My son has Crohn&#039;s disease and has done ...       8  17-May-09   \n",
       "2                      \"Quick reduction of symptoms\"       9  29-Sep-17   \n",
       "3  \"Contrave combines drugs that were used for al...       9   5-Mar-17   \n",
       "4  \"I have been on this birth control for one cyc...       9  22-Oct-15   \n",
       "\n",
       "   usefulCount  \n",
       "0           22  \n",
       "1           17  \n",
       "2            3  \n",
       "3           35  \n",
       "4            4  "
      ]
     },
     "execution_count": 5,
     "metadata": {},
     "output_type": "execute_result"
    }
   ],
   "source": [
    "drug_data_df.head(5)"
   ]
  },
  {
   "cell_type": "code",
   "execution_count": 6,
   "id": "de746967-23f6-46d1-bade-9f3dd2a6fed0",
   "metadata": {},
   "outputs": [
    {
     "data": {
      "text/plain": [
       "(53766, 7)"
      ]
     },
     "execution_count": 6,
     "metadata": {},
     "output_type": "execute_result"
    }
   ],
   "source": [
    "drug_data_df.shape"
   ]
  },
  {
   "cell_type": "markdown",
   "id": "9faff9a0-8160-4729-bac2-82a0d5d5c2a2",
   "metadata": {},
   "source": [
    "This dataset contains over 53 thousand rows and seven columns."
   ]
  },
  {
   "cell_type": "code",
   "execution_count": 7,
   "id": "d91187f9-f840-4cca-8c31-ad12336055e9",
   "metadata": {},
   "outputs": [
    {
     "data": {
      "text/plain": [
       "<bound method DataFrame.info of        uniqueID         drugName                     condition  \\\n",
       "0        163740      Mirtazapine                    Depression   \n",
       "1        206473       Mesalamine  Crohn's Disease, Maintenance   \n",
       "2        159672          Bactrim       Urinary Tract Infection   \n",
       "3         39293         Contrave                   Weight Loss   \n",
       "4         97768  Cyclafem 1 / 35                 Birth Control   \n",
       "...         ...              ...                           ...   \n",
       "53761    159999        Tamoxifen     Breast Cancer, Prevention   \n",
       "53762    140714     Escitalopram                       Anxiety   \n",
       "53763    130945   Levonorgestrel                 Birth Control   \n",
       "53764     47656       Tapentadol                          Pain   \n",
       "53765    113712        Arthrotec                      Sciatica   \n",
       "\n",
       "                                                  review  rating       date  \\\n",
       "0      \"I&#039;ve tried a few antidepressants over th...      10  28-Feb-12   \n",
       "1      \"My son has Crohn&#039;s disease and has done ...       8  17-May-09   \n",
       "2                          \"Quick reduction of symptoms\"       9  29-Sep-17   \n",
       "3      \"Contrave combines drugs that were used for al...       9   5-Mar-17   \n",
       "4      \"I have been on this birth control for one cyc...       9  22-Oct-15   \n",
       "...                                                  ...     ...        ...   \n",
       "53761  \"I have taken Tamoxifen for 5 years. Side effe...      10  13-Sep-14   \n",
       "53762  \"I&#039;ve been taking Lexapro (escitaploprgra...       9   8-Oct-16   \n",
       "53763  \"I&#039;m married, 34 years old and I have no ...       8  15-Nov-10   \n",
       "53764  \"I was prescribed Nucynta for severe neck/shou...       1  28-Nov-11   \n",
       "53765                                      \"It works!!!\"       9  13-Sep-09   \n",
       "\n",
       "       usefulCount  \n",
       "0               22  \n",
       "1               17  \n",
       "2                3  \n",
       "3               35  \n",
       "4                4  \n",
       "...            ...  \n",
       "53761           43  \n",
       "53762           11  \n",
       "53763            7  \n",
       "53764           20  \n",
       "53765           46  \n",
       "\n",
       "[53766 rows x 7 columns]>"
      ]
     },
     "execution_count": 7,
     "metadata": {},
     "output_type": "execute_result"
    }
   ],
   "source": [
    "drug_data_df.info"
   ]
  },
  {
   "cell_type": "code",
   "execution_count": 8,
   "id": "ae8795b9-83ce-4c0a-bcb0-f58b7a478acc",
   "metadata": {},
   "outputs": [
    {
     "name": "stdout",
     "output_type": "stream",
     "text": [
      "       uniqueID  drugName  condition  review  rating   date  usefulCount\n",
      "0         False     False      False   False   False  False        False\n",
      "1         False     False      False   False   False  False        False\n",
      "2         False     False      False   False   False  False        False\n",
      "3         False     False      False   False   False  False        False\n",
      "4         False     False      False   False   False  False        False\n",
      "...         ...       ...        ...     ...     ...    ...          ...\n",
      "53761     False     False      False   False   False  False        False\n",
      "53762     False     False      False   False   False  False        False\n",
      "53763     False     False      False   False   False  False        False\n",
      "53764     False     False      False   False   False  False        False\n",
      "53765     False     False      False   False   False  False        False\n",
      "\n",
      "[53766 rows x 7 columns]\n"
     ]
    }
   ],
   "source": [
    "missing_values= drug_data_df.isnull()\n",
    "print(missing_values)"
   ]
  },
  {
   "cell_type": "code",
   "execution_count": 9,
   "id": "1758bb35-fb44-44e7-a1a3-bb5afdcbbe9d",
   "metadata": {},
   "outputs": [
    {
     "name": "stdout",
     "output_type": "stream",
     "text": [
      "uniqueID         0\n",
      "drugName         0\n",
      "condition      295\n",
      "review           0\n",
      "rating           0\n",
      "date             0\n",
      "usefulCount      0\n",
      "dtype: int64\n"
     ]
    }
   ],
   "source": [
    "missing_values=drug_data_df.isnull().sum()\n",
    "print(missing_values)"
   ]
  },
  {
   "cell_type": "code",
   "execution_count": 10,
   "id": "644ed24c-a2c9-475f-a9db-fe0376b45d64",
   "metadata": {},
   "outputs": [
    {
     "data": {
      "text/plain": [
       "uniqueID       0.000000\n",
       "drugName       0.000000\n",
       "condition      0.548674\n",
       "review         0.000000\n",
       "rating         0.000000\n",
       "date           0.000000\n",
       "usefulCount    0.000000\n",
       "dtype: float64"
      ]
     },
     "execution_count": 10,
     "metadata": {},
     "output_type": "execute_result"
    }
   ],
   "source": [
    "drug_data_df.isna().sum()*100/len(drug_data_df)"
   ]
  },
  {
   "cell_type": "markdown",
   "id": "5b614737-5b65-4861-9a60-2ede7ee71632",
   "metadata": {},
   "source": [
    "I've used a few ways to determine the number and percentage of null values in the dataset. Over 50% of null values are attributable to the conditons row."
   ]
  },
  {
   "cell_type": "code",
   "execution_count": 11,
   "id": "e71ed260-4108-41bc-b347-e51a28a9f272",
   "metadata": {},
   "outputs": [
    {
     "data": {
      "text/html": [
       "<div>\n",
       "<style scoped>\n",
       "    .dataframe tbody tr th:only-of-type {\n",
       "        vertical-align: middle;\n",
       "    }\n",
       "\n",
       "    .dataframe tbody tr th {\n",
       "        vertical-align: top;\n",
       "    }\n",
       "\n",
       "    .dataframe thead th {\n",
       "        text-align: right;\n",
       "    }\n",
       "</style>\n",
       "<table border=\"1\" class=\"dataframe\">\n",
       "  <thead>\n",
       "    <tr style=\"text-align: right;\">\n",
       "      <th></th>\n",
       "      <th>uniqueID</th>\n",
       "      <th>drugName</th>\n",
       "      <th>condition</th>\n",
       "      <th>review</th>\n",
       "      <th>rating</th>\n",
       "      <th>date</th>\n",
       "      <th>usefulCount</th>\n",
       "    </tr>\n",
       "  </thead>\n",
       "  <tbody>\n",
       "    <tr>\n",
       "      <th>0</th>\n",
       "      <td>163740</td>\n",
       "      <td>Mirtazapine</td>\n",
       "      <td>Depression</td>\n",
       "      <td>\"I&amp;#039;ve tried a few antidepressants over th...</td>\n",
       "      <td>10</td>\n",
       "      <td>28-Feb-12</td>\n",
       "      <td>22</td>\n",
       "    </tr>\n",
       "    <tr>\n",
       "      <th>1</th>\n",
       "      <td>206473</td>\n",
       "      <td>Mesalamine</td>\n",
       "      <td>Crohn's Disease, Maintenance</td>\n",
       "      <td>\"My son has Crohn&amp;#039;s disease and has done ...</td>\n",
       "      <td>8</td>\n",
       "      <td>17-May-09</td>\n",
       "      <td>17</td>\n",
       "    </tr>\n",
       "    <tr>\n",
       "      <th>2</th>\n",
       "      <td>159672</td>\n",
       "      <td>Bactrim</td>\n",
       "      <td>Urinary Tract Infection</td>\n",
       "      <td>\"Quick reduction of symptoms\"</td>\n",
       "      <td>9</td>\n",
       "      <td>29-Sep-17</td>\n",
       "      <td>3</td>\n",
       "    </tr>\n",
       "    <tr>\n",
       "      <th>3</th>\n",
       "      <td>39293</td>\n",
       "      <td>Contrave</td>\n",
       "      <td>Weight Loss</td>\n",
       "      <td>\"Contrave combines drugs that were used for al...</td>\n",
       "      <td>9</td>\n",
       "      <td>5-Mar-17</td>\n",
       "      <td>35</td>\n",
       "    </tr>\n",
       "    <tr>\n",
       "      <th>4</th>\n",
       "      <td>97768</td>\n",
       "      <td>Cyclafem 1 / 35</td>\n",
       "      <td>Birth Control</td>\n",
       "      <td>\"I have been on this birth control for one cyc...</td>\n",
       "      <td>9</td>\n",
       "      <td>22-Oct-15</td>\n",
       "      <td>4</td>\n",
       "    </tr>\n",
       "    <tr>\n",
       "      <th>...</th>\n",
       "      <td>...</td>\n",
       "      <td>...</td>\n",
       "      <td>...</td>\n",
       "      <td>...</td>\n",
       "      <td>...</td>\n",
       "      <td>...</td>\n",
       "      <td>...</td>\n",
       "    </tr>\n",
       "    <tr>\n",
       "      <th>53761</th>\n",
       "      <td>159999</td>\n",
       "      <td>Tamoxifen</td>\n",
       "      <td>Breast Cancer, Prevention</td>\n",
       "      <td>\"I have taken Tamoxifen for 5 years. Side effe...</td>\n",
       "      <td>10</td>\n",
       "      <td>13-Sep-14</td>\n",
       "      <td>43</td>\n",
       "    </tr>\n",
       "    <tr>\n",
       "      <th>53762</th>\n",
       "      <td>140714</td>\n",
       "      <td>Escitalopram</td>\n",
       "      <td>Anxiety</td>\n",
       "      <td>\"I&amp;#039;ve been taking Lexapro (escitaploprgra...</td>\n",
       "      <td>9</td>\n",
       "      <td>8-Oct-16</td>\n",
       "      <td>11</td>\n",
       "    </tr>\n",
       "    <tr>\n",
       "      <th>53763</th>\n",
       "      <td>130945</td>\n",
       "      <td>Levonorgestrel</td>\n",
       "      <td>Birth Control</td>\n",
       "      <td>\"I&amp;#039;m married, 34 years old and I have no ...</td>\n",
       "      <td>8</td>\n",
       "      <td>15-Nov-10</td>\n",
       "      <td>7</td>\n",
       "    </tr>\n",
       "    <tr>\n",
       "      <th>53764</th>\n",
       "      <td>47656</td>\n",
       "      <td>Tapentadol</td>\n",
       "      <td>Pain</td>\n",
       "      <td>\"I was prescribed Nucynta for severe neck/shou...</td>\n",
       "      <td>1</td>\n",
       "      <td>28-Nov-11</td>\n",
       "      <td>20</td>\n",
       "    </tr>\n",
       "    <tr>\n",
       "      <th>53765</th>\n",
       "      <td>113712</td>\n",
       "      <td>Arthrotec</td>\n",
       "      <td>Sciatica</td>\n",
       "      <td>\"It works!!!\"</td>\n",
       "      <td>9</td>\n",
       "      <td>13-Sep-09</td>\n",
       "      <td>46</td>\n",
       "    </tr>\n",
       "  </tbody>\n",
       "</table>\n",
       "<p>53471 rows × 7 columns</p>\n",
       "</div>"
      ],
      "text/plain": [
       "       uniqueID         drugName                     condition  \\\n",
       "0        163740      Mirtazapine                    Depression   \n",
       "1        206473       Mesalamine  Crohn's Disease, Maintenance   \n",
       "2        159672          Bactrim       Urinary Tract Infection   \n",
       "3         39293         Contrave                   Weight Loss   \n",
       "4         97768  Cyclafem 1 / 35                 Birth Control   \n",
       "...         ...              ...                           ...   \n",
       "53761    159999        Tamoxifen     Breast Cancer, Prevention   \n",
       "53762    140714     Escitalopram                       Anxiety   \n",
       "53763    130945   Levonorgestrel                 Birth Control   \n",
       "53764     47656       Tapentadol                          Pain   \n",
       "53765    113712        Arthrotec                      Sciatica   \n",
       "\n",
       "                                                  review  rating       date  \\\n",
       "0      \"I&#039;ve tried a few antidepressants over th...      10  28-Feb-12   \n",
       "1      \"My son has Crohn&#039;s disease and has done ...       8  17-May-09   \n",
       "2                          \"Quick reduction of symptoms\"       9  29-Sep-17   \n",
       "3      \"Contrave combines drugs that were used for al...       9   5-Mar-17   \n",
       "4      \"I have been on this birth control for one cyc...       9  22-Oct-15   \n",
       "...                                                  ...     ...        ...   \n",
       "53761  \"I have taken Tamoxifen for 5 years. Side effe...      10  13-Sep-14   \n",
       "53762  \"I&#039;ve been taking Lexapro (escitaploprgra...       9   8-Oct-16   \n",
       "53763  \"I&#039;m married, 34 years old and I have no ...       8  15-Nov-10   \n",
       "53764  \"I was prescribed Nucynta for severe neck/shou...       1  28-Nov-11   \n",
       "53765                                      \"It works!!!\"       9  13-Sep-09   \n",
       "\n",
       "       usefulCount  \n",
       "0               22  \n",
       "1               17  \n",
       "2                3  \n",
       "3               35  \n",
       "4                4  \n",
       "...            ...  \n",
       "53761           43  \n",
       "53762           11  \n",
       "53763            7  \n",
       "53764           20  \n",
       "53765           46  \n",
       "\n",
       "[53471 rows x 7 columns]"
      ]
     },
     "execution_count": 11,
     "metadata": {},
     "output_type": "execute_result"
    }
   ],
   "source": [
    "drug_data_df.dropna(axis=0) #it will go through whole dataframe, and delete missing values "
   ]
  },
  {
   "cell_type": "code",
   "execution_count": 12,
   "id": "b4bc471a-4f5e-4756-a2dc-b002eb33c417",
   "metadata": {},
   "outputs": [
    {
     "data": {
      "text/plain": [
       "uniqueID       0\n",
       "drugName       0\n",
       "condition      0\n",
       "review         0\n",
       "rating         0\n",
       "date           0\n",
       "usefulCount    0\n",
       "dtype: int64"
      ]
     },
     "execution_count": 12,
     "metadata": {},
     "output_type": "execute_result"
    }
   ],
   "source": [
    "#sanity check\n",
    "drug_data_df.dropna(axis=0).isna().sum()"
   ]
  },
  {
   "cell_type": "code",
   "execution_count": 13,
   "id": "d7d1ea51-3d17-4fad-81b2-3741424ced64",
   "metadata": {},
   "outputs": [],
   "source": [
    "drug_data_df=drug_data_df.dropna(axis=0)"
   ]
  },
  {
   "cell_type": "code",
   "execution_count": 14,
   "id": "0463466e-4bca-40b2-b64c-b4e721447e25",
   "metadata": {},
   "outputs": [],
   "source": [
    "drug_data_df=drug_data_df.drop('uniqueID', axis=1)"
   ]
  },
  {
   "cell_type": "code",
   "execution_count": 15,
   "id": "d78da0b0-1d32-44a2-9eb9-bf93b7c7b1ee",
   "metadata": {},
   "outputs": [
    {
     "data": {
      "text/html": [
       "<div>\n",
       "<style scoped>\n",
       "    .dataframe tbody tr th:only-of-type {\n",
       "        vertical-align: middle;\n",
       "    }\n",
       "\n",
       "    .dataframe tbody tr th {\n",
       "        vertical-align: top;\n",
       "    }\n",
       "\n",
       "    .dataframe thead th {\n",
       "        text-align: right;\n",
       "    }\n",
       "</style>\n",
       "<table border=\"1\" class=\"dataframe\">\n",
       "  <thead>\n",
       "    <tr style=\"text-align: right;\">\n",
       "      <th></th>\n",
       "      <th>drugName</th>\n",
       "      <th>condition</th>\n",
       "      <th>review</th>\n",
       "      <th>rating</th>\n",
       "      <th>date</th>\n",
       "      <th>usefulCount</th>\n",
       "    </tr>\n",
       "  </thead>\n",
       "  <tbody>\n",
       "    <tr>\n",
       "      <th>0</th>\n",
       "      <td>Mirtazapine</td>\n",
       "      <td>Depression</td>\n",
       "      <td>\"I&amp;#039;ve tried a few antidepressants over th...</td>\n",
       "      <td>10</td>\n",
       "      <td>28-Feb-12</td>\n",
       "      <td>22</td>\n",
       "    </tr>\n",
       "    <tr>\n",
       "      <th>1</th>\n",
       "      <td>Mesalamine</td>\n",
       "      <td>Crohn's Disease, Maintenance</td>\n",
       "      <td>\"My son has Crohn&amp;#039;s disease and has done ...</td>\n",
       "      <td>8</td>\n",
       "      <td>17-May-09</td>\n",
       "      <td>17</td>\n",
       "    </tr>\n",
       "    <tr>\n",
       "      <th>2</th>\n",
       "      <td>Bactrim</td>\n",
       "      <td>Urinary Tract Infection</td>\n",
       "      <td>\"Quick reduction of symptoms\"</td>\n",
       "      <td>9</td>\n",
       "      <td>29-Sep-17</td>\n",
       "      <td>3</td>\n",
       "    </tr>\n",
       "    <tr>\n",
       "      <th>3</th>\n",
       "      <td>Contrave</td>\n",
       "      <td>Weight Loss</td>\n",
       "      <td>\"Contrave combines drugs that were used for al...</td>\n",
       "      <td>9</td>\n",
       "      <td>5-Mar-17</td>\n",
       "      <td>35</td>\n",
       "    </tr>\n",
       "    <tr>\n",
       "      <th>4</th>\n",
       "      <td>Cyclafem 1 / 35</td>\n",
       "      <td>Birth Control</td>\n",
       "      <td>\"I have been on this birth control for one cyc...</td>\n",
       "      <td>9</td>\n",
       "      <td>22-Oct-15</td>\n",
       "      <td>4</td>\n",
       "    </tr>\n",
       "    <tr>\n",
       "      <th>5</th>\n",
       "      <td>Zyclara</td>\n",
       "      <td>Keratosis</td>\n",
       "      <td>\"4 days in on first 2 weeks.  Using on arms an...</td>\n",
       "      <td>4</td>\n",
       "      <td>3-Jul-14</td>\n",
       "      <td>13</td>\n",
       "    </tr>\n",
       "    <tr>\n",
       "      <th>6</th>\n",
       "      <td>Copper</td>\n",
       "      <td>Birth Control</td>\n",
       "      <td>\"I&amp;#039;ve had the copper coil for about 3 mon...</td>\n",
       "      <td>6</td>\n",
       "      <td>6-Jun-16</td>\n",
       "      <td>1</td>\n",
       "    </tr>\n",
       "    <tr>\n",
       "      <th>7</th>\n",
       "      <td>Amitriptyline</td>\n",
       "      <td>Migraine Prevention</td>\n",
       "      <td>\"This has been great for me. I&amp;#039;ve been on...</td>\n",
       "      <td>9</td>\n",
       "      <td>21-Apr-09</td>\n",
       "      <td>32</td>\n",
       "    </tr>\n",
       "    <tr>\n",
       "      <th>8</th>\n",
       "      <td>Methadone</td>\n",
       "      <td>Opiate Withdrawal</td>\n",
       "      <td>\"Ive been on Methadone for over ten years and ...</td>\n",
       "      <td>7</td>\n",
       "      <td>18-Oct-16</td>\n",
       "      <td>21</td>\n",
       "    </tr>\n",
       "    <tr>\n",
       "      <th>9</th>\n",
       "      <td>Levora</td>\n",
       "      <td>Birth Control</td>\n",
       "      <td>\"I was on this pill for almost two years. It d...</td>\n",
       "      <td>2</td>\n",
       "      <td>16-Apr-11</td>\n",
       "      <td>3</td>\n",
       "    </tr>\n",
       "  </tbody>\n",
       "</table>\n",
       "</div>"
      ],
      "text/plain": [
       "          drugName                     condition  \\\n",
       "0      Mirtazapine                    Depression   \n",
       "1       Mesalamine  Crohn's Disease, Maintenance   \n",
       "2          Bactrim       Urinary Tract Infection   \n",
       "3         Contrave                   Weight Loss   \n",
       "4  Cyclafem 1 / 35                 Birth Control   \n",
       "5          Zyclara                     Keratosis   \n",
       "6           Copper                 Birth Control   \n",
       "7    Amitriptyline           Migraine Prevention   \n",
       "8        Methadone             Opiate Withdrawal   \n",
       "9           Levora                 Birth Control   \n",
       "\n",
       "                                              review  rating       date  \\\n",
       "0  \"I&#039;ve tried a few antidepressants over th...      10  28-Feb-12   \n",
       "1  \"My son has Crohn&#039;s disease and has done ...       8  17-May-09   \n",
       "2                      \"Quick reduction of symptoms\"       9  29-Sep-17   \n",
       "3  \"Contrave combines drugs that were used for al...       9   5-Mar-17   \n",
       "4  \"I have been on this birth control for one cyc...       9  22-Oct-15   \n",
       "5  \"4 days in on first 2 weeks.  Using on arms an...       4   3-Jul-14   \n",
       "6  \"I&#039;ve had the copper coil for about 3 mon...       6   6-Jun-16   \n",
       "7  \"This has been great for me. I&#039;ve been on...       9  21-Apr-09   \n",
       "8  \"Ive been on Methadone for over ten years and ...       7  18-Oct-16   \n",
       "9  \"I was on this pill for almost two years. It d...       2  16-Apr-11   \n",
       "\n",
       "   usefulCount  \n",
       "0           22  \n",
       "1           17  \n",
       "2            3  \n",
       "3           35  \n",
       "4            4  \n",
       "5           13  \n",
       "6            1  \n",
       "7           32  \n",
       "8           21  \n",
       "9            3  "
      ]
     },
     "execution_count": 15,
     "metadata": {},
     "output_type": "execute_result"
    }
   ],
   "source": [
    "drug_data_df.head(10)"
   ]
  },
  {
   "cell_type": "code",
   "execution_count": 16,
   "id": "e48275a9-0fda-4150-81ad-b40394551b4d",
   "metadata": {},
   "outputs": [],
   "source": [
    "count=pd.Series('drugName')"
   ]
  },
  {
   "cell_type": "markdown",
   "id": "93dbd9d5-fd0c-435e-a78a-1577735b29e9",
   "metadata": {},
   "source": [
    "The intent of this code is to look at whether removing the nulls has indeed worked in the drugName column."
   ]
  },
  {
   "cell_type": "code",
   "execution_count": 17,
   "id": "a235c6c6-b50b-4ed9-83a0-b60673d95ecf",
   "metadata": {},
   "outputs": [
    {
     "name": "stdout",
     "output_type": "stream",
     "text": [
      "0    drugName\n",
      "dtype: object\n"
     ]
    }
   ],
   "source": [
    "print(count)"
   ]
  },
  {
   "cell_type": "markdown",
   "id": "b6a5f95b-4cb8-494e-a449-ec5652db8619",
   "metadata": {},
   "source": [
    "After the preprocessing of data, my intent is to look at the commonly used drugs in this dataset and map this to the conditions. \n",
    "\n",
    "1. Which drugs are used for the greatest number of conditions?\n",
    "2. How many entries are there for each drug?\n",
    "3. For which conditions is each drug used for? \n",
    "4. Is there any overlap between drugs treating a condition - have three drugs been used to treat the same, identical condition?\n",
    "\n",
    " "
   ]
  },
  {
   "cell_type": "code",
   "execution_count": 18,
   "id": "13230836-ee2b-4306-a1fb-ba7b93a0d933",
   "metadata": {},
   "outputs": [],
   "source": [
    "df=pd.DataFrame(drug_data_df)"
   ]
  },
  {
   "cell_type": "code",
   "execution_count": 19,
   "id": "5b4352a3-5821-41cb-b228-de8881f88f05",
   "metadata": {},
   "outputs": [],
   "source": [
    "popular_drugs=df['drugName'].value_counts()"
   ]
  },
  {
   "cell_type": "code",
   "execution_count": 20,
   "id": "331a3ba6-a2d8-47a1-b418-20571d0492af",
   "metadata": {},
   "outputs": [
    {
     "name": "stdout",
     "output_type": "stream",
     "text": [
      "Most popular drugs in dataset:\n",
      "drugName\n",
      "Levonorgestrel                       1265\n",
      "Etonogestrel                         1081\n",
      "Ethinyl estradiol / norethindrone     869\n",
      "Nexplanon                             736\n",
      "Ethinyl estradiol / norgestimate      649\n",
      "                                     ... \n",
      "Stromectol                              1\n",
      "Loestrin Fe 1 / 20                      1\n",
      "Onfi                                    1\n",
      "Nimotop                                 1\n",
      "FluMist                                 1\n",
      "Name: count, Length: 2635, dtype: int64\n"
     ]
    }
   ],
   "source": [
    "print('Most popular drugs in dataset:')\n",
    "print(popular_drugs)"
   ]
  },
  {
   "cell_type": "code",
   "execution_count": 21,
   "id": "7ec43eb6-c130-422b-9401-951751ede088",
   "metadata": {},
   "outputs": [],
   "source": [
    "popular_conditions=df['condition'].value_counts()"
   ]
  },
  {
   "cell_type": "code",
   "execution_count": 22,
   "id": "84cd52ff-c9bc-420d-8802-63b84bcba45c",
   "metadata": {},
   "outputs": [
    {
     "name": "stdout",
     "output_type": "stream",
     "text": [
      "Most popular conditions in this datatset:\n",
      "condition\n",
      "Birth Control                                  9648\n",
      "Depression                                     3095\n",
      "Pain                                           2100\n",
      "Anxiety                                        1908\n",
      "Acne                                           1847\n",
      "                                               ... \n",
      "Gender Dysphoria                                  1\n",
      "83</span> users found this comment helpful.       1\n",
      "Meningococcal Meningitis Prophylaxis              1\n",
      "Tympanostomy Tube Placement Surgery               1\n",
      "Strongyloidiasis                                  1\n",
      "Name: count, Length: 708, dtype: int64\n"
     ]
    }
   ],
   "source": [
    "print('Most popular conditions in this dataset:')\n",
    "print(popular_conditions)"
   ]
  },
  {
   "cell_type": "markdown",
   "id": "4e3548ca-2a32-4c81-8680-5ff74e6d93a3",
   "metadata": {},
   "source": [
    "The five most popular 'conditions', or symptoms treated in this dataset are:\n",
    "\n",
    "1. drugs which provide suitable birth preventative measures\n",
    "2. drugs used to treat certain depressive states\n",
    "3. drugs used to provide pain relief\n",
    "4. drugs used to treat certain anxiety states\n",
    "5. and lastly acne"
   ]
  },
  {
   "cell_type": "markdown",
   "id": "221f83f1-bd82-44b2-8e66-5e39bcfdd727",
   "metadata": {},
   "source": [
    "Lets' explore what the top ten drugs might be from this dataset. \n",
    "\n",
    "I will plot a bar chart to see which drugs are the most commonly used in this dataset."
   ]
  },
  {
   "cell_type": "code",
   "execution_count": 23,
   "id": "962f7667-dce2-43cb-9864-0e15446234c4",
   "metadata": {},
   "outputs": [
    {
     "data": {
      "text/html": [
       "<div>\n",
       "<style scoped>\n",
       "    .dataframe tbody tr th:only-of-type {\n",
       "        vertical-align: middle;\n",
       "    }\n",
       "\n",
       "    .dataframe tbody tr th {\n",
       "        vertical-align: top;\n",
       "    }\n",
       "\n",
       "    .dataframe thead th {\n",
       "        text-align: right;\n",
       "    }\n",
       "</style>\n",
       "<table border=\"1\" class=\"dataframe\">\n",
       "  <thead>\n",
       "    <tr style=\"text-align: right;\">\n",
       "      <th></th>\n",
       "      <th>drugName</th>\n",
       "      <th>condition</th>\n",
       "      <th>review</th>\n",
       "      <th>rating</th>\n",
       "      <th>date</th>\n",
       "      <th>usefulCount</th>\n",
       "    </tr>\n",
       "  </thead>\n",
       "  <tbody>\n",
       "    <tr>\n",
       "      <th>0</th>\n",
       "      <td>Mirtazapine</td>\n",
       "      <td>Depression</td>\n",
       "      <td>\"I&amp;#039;ve tried a few antidepressants over th...</td>\n",
       "      <td>10</td>\n",
       "      <td>28-Feb-12</td>\n",
       "      <td>22</td>\n",
       "    </tr>\n",
       "    <tr>\n",
       "      <th>1</th>\n",
       "      <td>Mesalamine</td>\n",
       "      <td>Crohn's Disease, Maintenance</td>\n",
       "      <td>\"My son has Crohn&amp;#039;s disease and has done ...</td>\n",
       "      <td>8</td>\n",
       "      <td>17-May-09</td>\n",
       "      <td>17</td>\n",
       "    </tr>\n",
       "    <tr>\n",
       "      <th>2</th>\n",
       "      <td>Bactrim</td>\n",
       "      <td>Urinary Tract Infection</td>\n",
       "      <td>\"Quick reduction of symptoms\"</td>\n",
       "      <td>9</td>\n",
       "      <td>29-Sep-17</td>\n",
       "      <td>3</td>\n",
       "    </tr>\n",
       "    <tr>\n",
       "      <th>3</th>\n",
       "      <td>Contrave</td>\n",
       "      <td>Weight Loss</td>\n",
       "      <td>\"Contrave combines drugs that were used for al...</td>\n",
       "      <td>9</td>\n",
       "      <td>5-Mar-17</td>\n",
       "      <td>35</td>\n",
       "    </tr>\n",
       "    <tr>\n",
       "      <th>4</th>\n",
       "      <td>Cyclafem 1 / 35</td>\n",
       "      <td>Birth Control</td>\n",
       "      <td>\"I have been on this birth control for one cyc...</td>\n",
       "      <td>9</td>\n",
       "      <td>22-Oct-15</td>\n",
       "      <td>4</td>\n",
       "    </tr>\n",
       "  </tbody>\n",
       "</table>\n",
       "</div>"
      ],
      "text/plain": [
       "          drugName                     condition  \\\n",
       "0      Mirtazapine                    Depression   \n",
       "1       Mesalamine  Crohn's Disease, Maintenance   \n",
       "2          Bactrim       Urinary Tract Infection   \n",
       "3         Contrave                   Weight Loss   \n",
       "4  Cyclafem 1 / 35                 Birth Control   \n",
       "\n",
       "                                              review  rating       date  \\\n",
       "0  \"I&#039;ve tried a few antidepressants over th...      10  28-Feb-12   \n",
       "1  \"My son has Crohn&#039;s disease and has done ...       8  17-May-09   \n",
       "2                      \"Quick reduction of symptoms\"       9  29-Sep-17   \n",
       "3  \"Contrave combines drugs that were used for al...       9   5-Mar-17   \n",
       "4  \"I have been on this birth control for one cyc...       9  22-Oct-15   \n",
       "\n",
       "   usefulCount  \n",
       "0           22  \n",
       "1           17  \n",
       "2            3  \n",
       "3           35  \n",
       "4            4  "
      ]
     },
     "execution_count": 23,
     "metadata": {},
     "output_type": "execute_result"
    }
   ],
   "source": [
    "df.head(5)"
   ]
  },
  {
   "cell_type": "code",
   "execution_count": 24,
   "id": "788ebc4d-8504-42ae-b566-399161f2c470",
   "metadata": {},
   "outputs": [
    {
     "data": {
      "text/plain": [
       "<Axes: ylabel='drugName'>"
      ]
     },
     "execution_count": 24,
     "metadata": {},
     "output_type": "execute_result"
    },
    {
     "data": {
      "image/png": "[encoded data removed]",
      "text/plain": [
       "<Figure size 640x480 with 1 Axes>"
      ]
     },
     "metadata": {},
     "output_type": "display_data"
    }
   ],
   "source": [
    "drug_data_df.groupby('drugName')['condition'].nunique().sort_values(ascending=False)[:10].plot(kind=\"barh\")"
   ]
  },
  {
   "cell_type": "code",
   "execution_count": 25,
   "id": "c466af12-a53d-41fc-b05a-97d3432a5ea3",
   "metadata": {},
   "outputs": [
    {
     "data": {
      "text/plain": [
       "Text(0.5, 1.0, 'Top10 Drugs: Number of drugs used')"
      ]
     },
     "execution_count": 25,
     "metadata": {},
     "output_type": "execute_result"
    },
    {
     "data": {
      "image/png": "[encoded data removed]",
      "text/plain": [
       "<Figure size 1400x600 with 1 Axes>"
      ]
     },
     "metadata": {},
     "output_type": "display_data"
    }
   ],
   "source": [
    "# \n",
    "temp_df=drug_data_df.groupby('drugName')['condition'].nunique().sort_values(ascending=False)[0:10]\n",
    "temp_df.sort_values(ascending=True).plot(kind=\"barh\", figsize=(14,6), fontsize=10, color=\"purple\")\n",
    "plt.xlabel(\" \", fontsize=20)\n",
    "plt.ylabel(\" \", fontsize=20)\n",
    "plt.title(\"Top10 Drugs: Number of drugs used\", fontsize=20)"
   ]
  },
  {
   "cell_type": "markdown",
   "id": "91348ade-3042-4f09-9650-f5b29cd5cefc",
   "metadata": {},
   "source": [
    "The top five drugs are:\n",
    "\n",
    "1. gabapentin,\n",
    "2. prednisolone,\n",
    "3. amitryptylline,\n",
    "4. venlafaxine,\n",
    "5. doxycycline \n",
    "\n",
    "What is interesting is that these drugs are commonly used to treat certain types of pain, depression. Doxycycline is an antibiotic used to treat a range of infections, it is also clinically indicated for the use of acne.\n",
    "\n",
    "Out of interest, I will list the bottom 10 drugs used in this dataset."
   ]
  },
  {
   "cell_type": "markdown",
   "id": "0622b960-3746-46f1-824b-6f935d7f535c",
   "metadata": {},
   "source": []
  },
  {
   "cell_type": "code",
   "execution_count": 26,
   "id": "ece1b4eb-cf7a-4cb4-931e-8b4cd1ff706f",
   "metadata": {},
   "outputs": [
    {
     "data": {
      "text/plain": [
       "Text(0.5, 1.0, 'Lowest 10: Number of drugs used per condition')"
      ]
     },
     "execution_count": 26,
     "metadata": {},
     "output_type": "execute_result"
    },
    {
     "data": {
      "image/png": "[encoded data removed]",
      "text/plain": [
       "<Figure size 1400x600 with 1 Axes>"
      ]
     },
     "metadata": {},
     "output_type": "display_data"
    }
   ],
   "source": [
    "temp_df=drug_data_df.groupby('drugName')['condition'].nunique().sort_values(ascending=True)[0:10]\n",
    "temp_df.plot(kind=\"barh\", figsize=(14,6), fontsize=10, color=\"pink\")\n",
    "plt.xlabel(\" \", fontsize=20)\n",
    "plt.ylabel(\" \", fontsize=20)\n",
    "plt.title(\"Lowest 10: Number of drugs used per condition\", fontsize=20)"
   ]
  },
  {
   "cell_type": "markdown",
   "id": "223a1e81-2c0b-44be-b926-fedb311c535e",
   "metadata": {},
   "source": [
    "The least commonly used used in this dataset are:\n",
    "\n",
    "1. Metrogel Vaginal (metronidazole generic name, used to treat vaginal infections)\n",
    "2. Mevacor (lovastatin, generic name, for high cholesterol)\n",
    "3. Miacalcin Nasal (calcitonin, generic, for osteoporosis prevention in post menopausal women)\n",
    "4. Mibelas 24 Fe (norethindrone acetate, ethinyl estradiol and ferrous fumarate, birth control)\n",
    "5. Micardis HCT (telmesartan and hydrochlorotiazide, angiotensin receptor blocker and a thiazide-diuretic, for essential high blood pressure)\n",
    "6. miconazole/zinc oxide topical application (usually used to treat nappy rash in babies and yeast infections in adults)\n",
    "7. Microgestin 1.5/3.0 (norethindrone and ehtinyl estradiol, birth control)\n",
    "8. Microzide (hydrochlorothiazide, used to treat high blood pressure)\n",
    "9. Migergot (ergotamine and caffeine suppository, used to treat migraines or vascular headaches)\n",
    "10. A/B Otic (antipyrine and benzocaine, used to treat and relief symptoms of ear infections)\n",
    "\n",
    "These drugs are used to treat more obscure conditions. Perhaps users are less likely to provide a review for soemthing which is more difficult to tell whether it's treated a symptom Fot example, how can a lay person 'feel healthier' after having taken a drug for high cholesterol? Maybe the benefits to taking these medications cannot be limited to a positive review insisting an immediate beenfit to its use. For these reasons, if I have more time, I intend to conduct some kind of NLP, looking more closely at sentiment analysis."
   ]
  },
  {
   "cell_type": "code",
   "execution_count": 27,
   "id": "3af28165-da5a-49a4-a858-00aa5df33a92",
   "metadata": {},
   "outputs": [
    {
     "name": "stdout",
     "output_type": "stream",
     "text": [
      "2635\n"
     ]
    }
   ],
   "source": [
    "#how many drugs from the dataset only treat one condition?\n",
    "pop_drugs_conditions=df.groupby(by='drugName')['condition'].nunique()\n",
    "single_condition_drugs=pop_drugs_conditions[pop_drugs_conditions ==1]\n",
    "count_single_condition_drugs=pop_drugs_conditions.count()\n",
    "print(count_single_condition_drugs)"
   ]
  },
  {
   "cell_type": "markdown",
   "id": "da638405-be29-498a-b83e-49c0481fe635",
   "metadata": {},
   "source": [
    "There are 2635 drugs from this dataset which exclusively one condition only."
   ]
  },
  {
   "cell_type": "code",
   "execution_count": 28,
   "id": "a4221db1-e8db-4b7e-b1ff-e0be19652c65",
   "metadata": {},
   "outputs": [
    {
     "data": {
      "text/plain": [
       "drugName\n",
       "A / B Otic                               1\n",
       "Abacavir / dolutegravir / lamivudine     1\n",
       "Abacavir / lamivudine                    1\n",
       "Abatacept                                1\n",
       "Abilify                                 11\n",
       "Name: condition, dtype: int64"
      ]
     },
     "execution_count": 28,
     "metadata": {},
     "output_type": "execute_result"
    }
   ],
   "source": [
    "#which drugs are used for the greatest number of conditions?\n",
    "pop_drugs_conditions=df.groupby(by='drugName')['condition'].nunique()\n",
    "pop_drugs_conditions.head()"
   ]
  },
  {
   "cell_type": "code",
   "execution_count": 29,
   "id": "202541bb-67cb-4ba8-bf2d-3871a8dc9557",
   "metadata": {},
   "outputs": [
    {
     "data": {
      "text/plain": [
       "drugName\n",
       "Gabapentin             26\n",
       "Prednisone             26\n",
       "Amitriptyline          19\n",
       "Venlafaxine            18\n",
       "Doxycycline            17\n",
       "                       ..\n",
       "Galantamine             1\n",
       "Gadoxetate disodium     1\n",
       "Gabitril                1\n",
       "Gabarone                1\n",
       "pHisoHex                1\n",
       "Name: condition, Length: 2635, dtype: int64"
      ]
     },
     "execution_count": 29,
     "metadata": {},
     "output_type": "execute_result"
    }
   ],
   "source": [
    "pop_drugs_conditions.sort_values(ascending=False)"
   ]
  },
  {
   "cell_type": "code",
   "execution_count": 30,
   "id": "29f85b24-bf2d-45f4-aa34-e4344a2377f0",
   "metadata": {},
   "outputs": [
    {
     "data": {
      "text/html": [
       "<div>\n",
       "<style scoped>\n",
       "    .dataframe tbody tr th:only-of-type {\n",
       "        vertical-align: middle;\n",
       "    }\n",
       "\n",
       "    .dataframe tbody tr th {\n",
       "        vertical-align: top;\n",
       "    }\n",
       "\n",
       "    .dataframe thead th {\n",
       "        text-align: right;\n",
       "    }\n",
       "</style>\n",
       "<table border=\"1\" class=\"dataframe\">\n",
       "  <thead>\n",
       "    <tr style=\"text-align: right;\">\n",
       "      <th></th>\n",
       "      <th>drugName</th>\n",
       "      <th>condition</th>\n",
       "      <th>review</th>\n",
       "      <th>rating</th>\n",
       "      <th>date</th>\n",
       "      <th>usefulCount</th>\n",
       "    </tr>\n",
       "  </thead>\n",
       "  <tbody>\n",
       "    <tr>\n",
       "      <th>41</th>\n",
       "      <td>Gabapentin</td>\n",
       "      <td>Bipolar Disorde</td>\n",
       "      <td>\"I started taking gabapentin experimentally to...</td>\n",
       "      <td>8</td>\n",
       "      <td>24-Sep-14</td>\n",
       "      <td>75</td>\n",
       "    </tr>\n",
       "    <tr>\n",
       "      <th>193</th>\n",
       "      <td>Gabapentin</td>\n",
       "      <td>ibromyalgia</td>\n",
       "      <td>\"It honestly helps a lot for my nerve pain, I ...</td>\n",
       "      <td>9</td>\n",
       "      <td>17-May-16</td>\n",
       "      <td>43</td>\n",
       "    </tr>\n",
       "    <tr>\n",
       "      <th>229</th>\n",
       "      <td>Gabapentin</td>\n",
       "      <td>Pain</td>\n",
       "      <td>\"I have a bulging disc and low back that has d...</td>\n",
       "      <td>9</td>\n",
       "      <td>9-May-10</td>\n",
       "      <td>37</td>\n",
       "    </tr>\n",
       "    <tr>\n",
       "      <th>245</th>\n",
       "      <td>Gabapentin</td>\n",
       "      <td>Anxiety</td>\n",
       "      <td>\"Ok,   its funny i found this page because  it...</td>\n",
       "      <td>8</td>\n",
       "      <td>9-May-16</td>\n",
       "      <td>66</td>\n",
       "    </tr>\n",
       "    <tr>\n",
       "      <th>259</th>\n",
       "      <td>Gabapentin</td>\n",
       "      <td>Anxiety</td>\n",
       "      <td>\"I was prescribed this for Anxiety never shoul...</td>\n",
       "      <td>1</td>\n",
       "      <td>24-Nov-16</td>\n",
       "      <td>40</td>\n",
       "    </tr>\n",
       "    <tr>\n",
       "      <th>...</th>\n",
       "      <td>...</td>\n",
       "      <td>...</td>\n",
       "      <td>...</td>\n",
       "      <td>...</td>\n",
       "      <td>...</td>\n",
       "      <td>...</td>\n",
       "    </tr>\n",
       "    <tr>\n",
       "      <th>53200</th>\n",
       "      <td>Gabapentin</td>\n",
       "      <td>Restless Legs Syndrome</td>\n",
       "      <td>\"I have been suffering from Restless legs synd...</td>\n",
       "      <td>10</td>\n",
       "      <td>25-Nov-13</td>\n",
       "      <td>126</td>\n",
       "    </tr>\n",
       "    <tr>\n",
       "      <th>53436</th>\n",
       "      <td>Gabapentin</td>\n",
       "      <td>Anxiety</td>\n",
       "      <td>\"I can&amp;#039;t tolerate SSRI&amp;#039;s.  I&amp;#039;ve...</td>\n",
       "      <td>10</td>\n",
       "      <td>31-Oct-13</td>\n",
       "      <td>64</td>\n",
       "    </tr>\n",
       "    <tr>\n",
       "      <th>53584</th>\n",
       "      <td>Gabapentin</td>\n",
       "      <td>Restless Legs Syndrome</td>\n",
       "      <td>\"I feel that this medication has given my life...</td>\n",
       "      <td>6</td>\n",
       "      <td>30-Dec-15</td>\n",
       "      <td>48</td>\n",
       "    </tr>\n",
       "    <tr>\n",
       "      <th>53607</th>\n",
       "      <td>Gabapentin</td>\n",
       "      <td>Peripheral Neuropathy</td>\n",
       "      <td>\"This is the only drug that works for me. I us...</td>\n",
       "      <td>7</td>\n",
       "      <td>25-Jul-09</td>\n",
       "      <td>30</td>\n",
       "    </tr>\n",
       "    <tr>\n",
       "      <th>53657</th>\n",
       "      <td>Gabapentin</td>\n",
       "      <td>Anxiety</td>\n",
       "      <td>\"Gabapentin is the most liberating medicine I ...</td>\n",
       "      <td>10</td>\n",
       "      <td>17-Jul-11</td>\n",
       "      <td>67</td>\n",
       "    </tr>\n",
       "  </tbody>\n",
       "</table>\n",
       "<p>367 rows × 6 columns</p>\n",
       "</div>"
      ],
      "text/plain": [
       "         drugName               condition  \\\n",
       "41     Gabapentin         Bipolar Disorde   \n",
       "193    Gabapentin             ibromyalgia   \n",
       "229    Gabapentin                    Pain   \n",
       "245    Gabapentin                 Anxiety   \n",
       "259    Gabapentin                 Anxiety   \n",
       "...           ...                     ...   \n",
       "53200  Gabapentin  Restless Legs Syndrome   \n",
       "53436  Gabapentin                 Anxiety   \n",
       "53584  Gabapentin  Restless Legs Syndrome   \n",
       "53607  Gabapentin   Peripheral Neuropathy   \n",
       "53657  Gabapentin                 Anxiety   \n",
       "\n",
       "                                                  review  rating       date  \\\n",
       "41     \"I started taking gabapentin experimentally to...       8  24-Sep-14   \n",
       "193    \"It honestly helps a lot for my nerve pain, I ...       9  17-May-16   \n",
       "229    \"I have a bulging disc and low back that has d...       9   9-May-10   \n",
       "245    \"Ok,   its funny i found this page because  it...       8   9-May-16   \n",
       "259    \"I was prescribed this for Anxiety never shoul...       1  24-Nov-16   \n",
       "...                                                  ...     ...        ...   \n",
       "53200  \"I have been suffering from Restless legs synd...      10  25-Nov-13   \n",
       "53436  \"I can&#039;t tolerate SSRI&#039;s.  I&#039;ve...      10  31-Oct-13   \n",
       "53584  \"I feel that this medication has given my life...       6  30-Dec-15   \n",
       "53607  \"This is the only drug that works for me. I us...       7  25-Jul-09   \n",
       "53657  \"Gabapentin is the most liberating medicine I ...      10  17-Jul-11   \n",
       "\n",
       "       usefulCount  \n",
       "41              75  \n",
       "193             43  \n",
       "229             37  \n",
       "245             66  \n",
       "259             40  \n",
       "...            ...  \n",
       "53200          126  \n",
       "53436           64  \n",
       "53584           48  \n",
       "53607           30  \n",
       "53657           67  \n",
       "\n",
       "[367 rows x 6 columns]"
      ]
     },
     "execution_count": 30,
     "metadata": {},
     "output_type": "execute_result"
    }
   ],
   "source": [
    "drug_name='Gabapentin'\n",
    "filter=df['drugName']==drug_name\n",
    "df[filter]"
   ]
  },
  {
   "cell_type": "code",
   "execution_count": 31,
   "id": "1a37cdb8-a731-4d0c-90c4-b94428cbfd06",
   "metadata": {},
   "outputs": [
    {
     "data": {
      "text/plain": [
       "array(['Bipolar Disorde', 'ibromyalgia', 'Pain', 'Anxiety',\n",
       "       'Peripheral Neuropathy', 'Migraine',\n",
       "       'Diabetic Peripheral Neuropathy', 'Restless Legs Syndrome',\n",
       "       'Occipital Neuralgia', 'Postherpetic Neuralgia', 'Insomnia',\n",
       "       'Neuropathic Pain', 'Hot Flashes', 'Alcohol Withdrawal', 'Hiccups',\n",
       "       'Epilepsy', 'Reflex Sympathetic Dystrophy Syndrome',\n",
       "       'Spondylolisthesis', 'Not Listed / Othe', 'Vulvodynia', 'Cough',\n",
       "       'Trigeminal Neuralgia', 'Pruritus',\n",
       "       'Periodic Limb Movement Disorde',\n",
       "       'Nausea/Vomiting, Chemotherapy Induced', 'Benign Essential Trem'],\n",
       "      dtype=object)"
      ]
     },
     "execution_count": 31,
     "metadata": {},
     "output_type": "execute_result"
    }
   ],
   "source": [
    "df[filter]['condition'].unique()"
   ]
  },
  {
   "cell_type": "code",
   "execution_count": 32,
   "id": "9c2e51ce-c48c-4a6c-b7f0-c5c6c2da6fa2",
   "metadata": {},
   "outputs": [],
   "source": [
    "gabapentin_conditions=df[filter][['condition']].value_counts().rename_axis('unique_values').reset_index(name='counts')"
   ]
  },
  {
   "cell_type": "code",
   "execution_count": 33,
   "id": "8c94b513-7bf1-487c-976c-f109b61890c6",
   "metadata": {},
   "outputs": [
    {
     "data": {
      "text/html": [
       "<div>\n",
       "<style scoped>\n",
       "    .dataframe tbody tr th:only-of-type {\n",
       "        vertical-align: middle;\n",
       "    }\n",
       "\n",
       "    .dataframe tbody tr th {\n",
       "        vertical-align: top;\n",
       "    }\n",
       "\n",
       "    .dataframe thead th {\n",
       "        text-align: right;\n",
       "    }\n",
       "</style>\n",
       "<table border=\"1\" class=\"dataframe\">\n",
       "  <thead>\n",
       "    <tr style=\"text-align: right;\">\n",
       "      <th></th>\n",
       "      <th>unique_values</th>\n",
       "      <th>counts</th>\n",
       "    </tr>\n",
       "  </thead>\n",
       "  <tbody>\n",
       "    <tr>\n",
       "      <th>0</th>\n",
       "      <td>Anxiety</td>\n",
       "      <td>67</td>\n",
       "    </tr>\n",
       "    <tr>\n",
       "      <th>1</th>\n",
       "      <td>Pain</td>\n",
       "      <td>63</td>\n",
       "    </tr>\n",
       "    <tr>\n",
       "      <th>2</th>\n",
       "      <td>ibromyalgia</td>\n",
       "      <td>38</td>\n",
       "    </tr>\n",
       "    <tr>\n",
       "      <th>3</th>\n",
       "      <td>Peripheral Neuropathy</td>\n",
       "      <td>33</td>\n",
       "    </tr>\n",
       "    <tr>\n",
       "      <th>4</th>\n",
       "      <td>Restless Legs Syndrome</td>\n",
       "      <td>21</td>\n",
       "    </tr>\n",
       "  </tbody>\n",
       "</table>\n",
       "</div>"
      ],
      "text/plain": [
       "            unique_values  counts\n",
       "0                 Anxiety      67\n",
       "1                    Pain      63\n",
       "2             ibromyalgia      38\n",
       "3   Peripheral Neuropathy      33\n",
       "4  Restless Legs Syndrome      21"
      ]
     },
     "execution_count": 33,
     "metadata": {},
     "output_type": "execute_result"
    }
   ],
   "source": [
    "gabapentin_conditions.head(5)"
   ]
  },
  {
   "cell_type": "code",
   "execution_count": 34,
   "id": "5a225835-63e8-485f-ba5b-c1f2bb89cc76",
   "metadata": {},
   "outputs": [
    {
     "data": {
      "image/png": "[encoded data removed]",
      "text/plain": [
       "<Figure size 640x480 with 1 Axes>"
      ]
     },
     "metadata": {},
     "output_type": "display_data"
    }
   ],
   "source": [
    "# draw a bar chart, y axis conditions, x axis drug\n",
    "\n",
    "#import pandas as pd\n",
    "#import matplotlib.pyplot as plt\n",
    "\n",
    "#df=pd.DataFrame(drug_data_df)\n",
    "#filter=df[filter]['condition'].value_counts()\n",
    "#value_counts.plot(kind='bar', color='skyblue')\n",
    "#plt.xlabel('Gabapentin')\n",
    "#plt.ylabel('condition')\n",
    "#plt.title(\"conditions treated using Gabapentin\")\n",
    "\n",
    "#plt.show()\n",
    "\n",
    "sns.barplot(gabapentin_conditions, x=\"counts\", y=\"unique_values\");"
   ]
  },
  {
   "cell_type": "markdown",
   "id": "fe5cb05c-e7ff-4e64-a2ab-3019a7ef5e0b",
   "metadata": {},
   "source": [
    "From the graph above, gabapentin is treated for a wide range of clinical indications. The top five common uses for gabapentin are:\n",
    "\n",
    "1. anxiety\n",
    "2. pain management\n",
    "3. fibromylagia\n",
    "4. peripheral neuropathy\n",
    "5. restless legs syndrome\n",
    "\n",
    "The five least commonly used indications of gabapentin are:\n",
    "1. vulvodynia\n",
    "2. spondylolisthesis\n",
    "3. benign essential tremor\n",
    "4. pruritus\n",
    "5. cough"
   ]
  },
  {
   "cell_type": "code",
   "execution_count": 35,
   "id": "aa3798c4-ab43-4d57-ba75-2bb6bb2e71f9",
   "metadata": {},
   "outputs": [
    {
     "data": {
      "text/html": [
       "<div>\n",
       "<style scoped>\n",
       "    .dataframe tbody tr th:only-of-type {\n",
       "        vertical-align: middle;\n",
       "    }\n",
       "\n",
       "    .dataframe tbody tr th {\n",
       "        vertical-align: top;\n",
       "    }\n",
       "\n",
       "    .dataframe thead th {\n",
       "        text-align: right;\n",
       "    }\n",
       "</style>\n",
       "<table border=\"1\" class=\"dataframe\">\n",
       "  <thead>\n",
       "    <tr style=\"text-align: right;\">\n",
       "      <th></th>\n",
       "      <th>drugName</th>\n",
       "      <th>condition</th>\n",
       "      <th>review</th>\n",
       "      <th>rating</th>\n",
       "      <th>date</th>\n",
       "      <th>usefulCount</th>\n",
       "    </tr>\n",
       "  </thead>\n",
       "  <tbody>\n",
       "    <tr>\n",
       "      <th>2784</th>\n",
       "      <td>Prednisolone</td>\n",
       "      <td>Postoperative Ocular Inflammation</td>\n",
       "      <td>\"Experiencing muscle pain and weakness, poor s...</td>\n",
       "      <td>2</td>\n",
       "      <td>17-Dec-16</td>\n",
       "      <td>7</td>\n",
       "    </tr>\n",
       "    <tr>\n",
       "      <th>13425</th>\n",
       "      <td>Prednisolone</td>\n",
       "      <td>Bullous Pemphigoid</td>\n",
       "      <td>\"I was sliding downhill very fast with Pemphig...</td>\n",
       "      <td>9</td>\n",
       "      <td>28-Sep-15</td>\n",
       "      <td>2</td>\n",
       "    </tr>\n",
       "    <tr>\n",
       "      <th>14522</th>\n",
       "      <td>Prednisolone</td>\n",
       "      <td>Postoperative Ocular Inflammation</td>\n",
       "      <td>\"Caused the eye to burn afterwards.\"</td>\n",
       "      <td>2</td>\n",
       "      <td>28-May-15</td>\n",
       "      <td>14</td>\n",
       "    </tr>\n",
       "    <tr>\n",
       "      <th>19858</th>\n",
       "      <td>Prednisolone</td>\n",
       "      <td>Iritis</td>\n",
       "      <td>\"I am a 75 year old male, and have reoccurring...</td>\n",
       "      <td>8</td>\n",
       "      <td>25-Aug-16</td>\n",
       "      <td>2</td>\n",
       "    </tr>\n",
       "    <tr>\n",
       "      <th>40041</th>\n",
       "      <td>Prednisolone</td>\n",
       "      <td>Inflammatory Conditions</td>\n",
       "      <td>\"First time taking pred and was on 40mg for Ul...</td>\n",
       "      <td>6</td>\n",
       "      <td>7-Sep-16</td>\n",
       "      <td>7</td>\n",
       "    </tr>\n",
       "    <tr>\n",
       "      <th>43885</th>\n",
       "      <td>Prednisolone</td>\n",
       "      <td>Inflammatory Conditions</td>\n",
       "      <td>\"I had post nasal drip with a cough.  It helpe...</td>\n",
       "      <td>5</td>\n",
       "      <td>13-Sep-15</td>\n",
       "      <td>1</td>\n",
       "    </tr>\n",
       "    <tr>\n",
       "      <th>46215</th>\n",
       "      <td>Prednisolone</td>\n",
       "      <td>Dermatitis</td>\n",
       "      <td>\"Had itching, redness and rashes between finge...</td>\n",
       "      <td>7</td>\n",
       "      <td>25-Sep-17</td>\n",
       "      <td>0</td>\n",
       "    </tr>\n",
       "  </tbody>\n",
       "</table>\n",
       "</div>"
      ],
      "text/plain": [
       "           drugName                          condition  \\\n",
       "2784   Prednisolone  Postoperative Ocular Inflammation   \n",
       "13425  Prednisolone                 Bullous Pemphigoid   \n",
       "14522  Prednisolone  Postoperative Ocular Inflammation   \n",
       "19858  Prednisolone                             Iritis   \n",
       "40041  Prednisolone            Inflammatory Conditions   \n",
       "43885  Prednisolone            Inflammatory Conditions   \n",
       "46215  Prednisolone                         Dermatitis   \n",
       "\n",
       "                                                  review  rating       date  \\\n",
       "2784   \"Experiencing muscle pain and weakness, poor s...       2  17-Dec-16   \n",
       "13425  \"I was sliding downhill very fast with Pemphig...       9  28-Sep-15   \n",
       "14522               \"Caused the eye to burn afterwards.\"       2  28-May-15   \n",
       "19858  \"I am a 75 year old male, and have reoccurring...       8  25-Aug-16   \n",
       "40041  \"First time taking pred and was on 40mg for Ul...       6   7-Sep-16   \n",
       "43885  \"I had post nasal drip with a cough.  It helpe...       5  13-Sep-15   \n",
       "46215  \"Had itching, redness and rashes between finge...       7  25-Sep-17   \n",
       "\n",
       "       usefulCount  \n",
       "2784             7  \n",
       "13425            2  \n",
       "14522           14  \n",
       "19858            2  \n",
       "40041            7  \n",
       "43885            1  \n",
       "46215            0  "
      ]
     },
     "execution_count": 35,
     "metadata": {},
     "output_type": "execute_result"
    }
   ],
   "source": [
    "drug_name2='Prednisolone'\n",
    "filter=df['drugName']==drug_name2\n",
    "df[filter]\n",
    "\n"
   ]
  },
  {
   "cell_type": "code",
   "execution_count": 36,
   "id": "dc05a094-20bb-4b57-9cd1-8ded8d4efac4",
   "metadata": {},
   "outputs": [],
   "source": [
    "prednisolone_conditions=df[filter][['condition']].value_counts().rename_axis('unique_values').reset_index(name='counts')"
   ]
  },
  {
   "cell_type": "code",
   "execution_count": 37,
   "id": "d9fb1eb5-01b9-4f27-9306-6a10068735cc",
   "metadata": {},
   "outputs": [
    {
     "data": {
      "text/html": [
       "<div>\n",
       "<style scoped>\n",
       "    .dataframe tbody tr th:only-of-type {\n",
       "        vertical-align: middle;\n",
       "    }\n",
       "\n",
       "    .dataframe tbody tr th {\n",
       "        vertical-align: top;\n",
       "    }\n",
       "\n",
       "    .dataframe thead th {\n",
       "        text-align: right;\n",
       "    }\n",
       "</style>\n",
       "<table border=\"1\" class=\"dataframe\">\n",
       "  <thead>\n",
       "    <tr style=\"text-align: right;\">\n",
       "      <th></th>\n",
       "      <th>unique_values</th>\n",
       "      <th>counts</th>\n",
       "    </tr>\n",
       "  </thead>\n",
       "  <tbody>\n",
       "    <tr>\n",
       "      <th>0</th>\n",
       "      <td>Inflammatory Conditions</td>\n",
       "      <td>2</td>\n",
       "    </tr>\n",
       "    <tr>\n",
       "      <th>1</th>\n",
       "      <td>Postoperative Ocular Inflammation</td>\n",
       "      <td>2</td>\n",
       "    </tr>\n",
       "    <tr>\n",
       "      <th>2</th>\n",
       "      <td>Bullous Pemphigoid</td>\n",
       "      <td>1</td>\n",
       "    </tr>\n",
       "    <tr>\n",
       "      <th>3</th>\n",
       "      <td>Dermatitis</td>\n",
       "      <td>1</td>\n",
       "    </tr>\n",
       "    <tr>\n",
       "      <th>4</th>\n",
       "      <td>Iritis</td>\n",
       "      <td>1</td>\n",
       "    </tr>\n",
       "  </tbody>\n",
       "</table>\n",
       "</div>"
      ],
      "text/plain": [
       "                       unique_values  counts\n",
       "0            Inflammatory Conditions       2\n",
       "1  Postoperative Ocular Inflammation       2\n",
       "2                 Bullous Pemphigoid       1\n",
       "3                         Dermatitis       1\n",
       "4                             Iritis       1"
      ]
     },
     "execution_count": 37,
     "metadata": {},
     "output_type": "execute_result"
    }
   ],
   "source": [
    "prednisolone_conditions.head(10)"
   ]
  },
  {
   "cell_type": "code",
   "execution_count": 38,
   "id": "0e0b0c52-2661-4e24-bfe0-7479217faeff",
   "metadata": {},
   "outputs": [
    {
     "data": {
      "image/png": "[encoded data removed]",
      "text/plain": [
       "<Figure size 640x480 with 1 Axes>"
      ]
     },
     "metadata": {},
     "output_type": "display_data"
    }
   ],
   "source": [
    "#bar chart\n",
    "sns.barplot(prednisolone_conditions, x=\"counts\", y=\"unique_values\");"
   ]
  },
  {
   "cell_type": "markdown",
   "id": "186fb224-1b44-45de-bdb5-b4f3644d0acb",
   "metadata": {},
   "source": [
    "Prednisolone is commonly used to treat a range of inflammatory conditions. From this dataset, it is used to treat a group of unclassified and ubiquitous \"inflammatory conditions\", and also:\n",
    "1. post surgical ocular inflammation\n",
    "2. bullous pemphigoid\n",
    "3. dermatitis\n",
    "4. iritis"
   ]
  },
  {
   "cell_type": "code",
   "execution_count": 39,
   "id": "88bd862e-2827-49dd-a367-9af222064dd9",
   "metadata": {},
   "outputs": [
    {
     "data": {
      "text/html": [
       "<div>\n",
       "<style scoped>\n",
       "    .dataframe tbody tr th:only-of-type {\n",
       "        vertical-align: middle;\n",
       "    }\n",
       "\n",
       "    .dataframe tbody tr th {\n",
       "        vertical-align: top;\n",
       "    }\n",
       "\n",
       "    .dataframe thead th {\n",
       "        text-align: right;\n",
       "    }\n",
       "</style>\n",
       "<table border=\"1\" class=\"dataframe\">\n",
       "  <thead>\n",
       "    <tr style=\"text-align: right;\">\n",
       "      <th></th>\n",
       "      <th>drugName</th>\n",
       "      <th>condition</th>\n",
       "      <th>review</th>\n",
       "      <th>rating</th>\n",
       "      <th>date</th>\n",
       "      <th>usefulCount</th>\n",
       "    </tr>\n",
       "  </thead>\n",
       "  <tbody>\n",
       "    <tr>\n",
       "      <th>7</th>\n",
       "      <td>Amitriptyline</td>\n",
       "      <td>Migraine Prevention</td>\n",
       "      <td>\"This has been great for me. I&amp;#039;ve been on...</td>\n",
       "      <td>9</td>\n",
       "      <td>21-Apr-09</td>\n",
       "      <td>32</td>\n",
       "    </tr>\n",
       "    <tr>\n",
       "      <th>117</th>\n",
       "      <td>Amitriptyline</td>\n",
       "      <td>ibromyalgia</td>\n",
       "      <td>\"I am a 66 year old post-premenopausal female ...</td>\n",
       "      <td>1</td>\n",
       "      <td>30-Nov-17</td>\n",
       "      <td>0</td>\n",
       "    </tr>\n",
       "    <tr>\n",
       "      <th>395</th>\n",
       "      <td>Amitriptyline</td>\n",
       "      <td>Anxiety and Stress</td>\n",
       "      <td>\"I&amp;#039;ve only been taking this for a month. ...</td>\n",
       "      <td>4</td>\n",
       "      <td>13-Feb-14</td>\n",
       "      <td>62</td>\n",
       "    </tr>\n",
       "    <tr>\n",
       "      <th>404</th>\n",
       "      <td>Amitriptyline</td>\n",
       "      <td>ibromyalgia</td>\n",
       "      <td>\"I was just diagnosed with Fibromyalgia, was b...</td>\n",
       "      <td>2</td>\n",
       "      <td>17-Jan-11</td>\n",
       "      <td>46</td>\n",
       "    </tr>\n",
       "    <tr>\n",
       "      <th>1000</th>\n",
       "      <td>Amitriptyline</td>\n",
       "      <td>ibromyalgia</td>\n",
       "      <td>\"I had unrefreshing sleep, and needed a lot of...</td>\n",
       "      <td>9</td>\n",
       "      <td>9-May-12</td>\n",
       "      <td>122</td>\n",
       "    </tr>\n",
       "    <tr>\n",
       "      <th>...</th>\n",
       "      <td>...</td>\n",
       "      <td>...</td>\n",
       "      <td>...</td>\n",
       "      <td>...</td>\n",
       "      <td>...</td>\n",
       "      <td>...</td>\n",
       "    </tr>\n",
       "    <tr>\n",
       "      <th>53292</th>\n",
       "      <td>Amitriptyline</td>\n",
       "      <td>Migraine Prevention</td>\n",
       "      <td>\"I had been taking propranolol for migraine pr...</td>\n",
       "      <td>9</td>\n",
       "      <td>20-Sep-13</td>\n",
       "      <td>64</td>\n",
       "    </tr>\n",
       "    <tr>\n",
       "      <th>53444</th>\n",
       "      <td>Amitriptyline</td>\n",
       "      <td>Migraine Prevention</td>\n",
       "      <td>\"I have chronic Lyme disease and one of the wo...</td>\n",
       "      <td>10</td>\n",
       "      <td>4-Sep-14</td>\n",
       "      <td>65</td>\n",
       "    </tr>\n",
       "    <tr>\n",
       "      <th>53490</th>\n",
       "      <td>Amitriptyline</td>\n",
       "      <td>Anxiety and Stress</td>\n",
       "      <td>\"Started for sleep. No difference with headach...</td>\n",
       "      <td>3</td>\n",
       "      <td>2-Feb-17</td>\n",
       "      <td>10</td>\n",
       "    </tr>\n",
       "    <tr>\n",
       "      <th>53520</th>\n",
       "      <td>Amitriptyline</td>\n",
       "      <td>Pain</td>\n",
       "      <td>\"Took it for a few days but could not stay awa...</td>\n",
       "      <td>1</td>\n",
       "      <td>27-Nov-15</td>\n",
       "      <td>20</td>\n",
       "    </tr>\n",
       "    <tr>\n",
       "      <th>53524</th>\n",
       "      <td>Amitriptyline</td>\n",
       "      <td>Migraine Prevention</td>\n",
       "      <td>\"Husband has turned in to a angry hulk. I know...</td>\n",
       "      <td>1</td>\n",
       "      <td>4-Sep-15</td>\n",
       "      <td>19</td>\n",
       "    </tr>\n",
       "  </tbody>\n",
       "</table>\n",
       "<p>225 rows × 6 columns</p>\n",
       "</div>"
      ],
      "text/plain": [
       "            drugName            condition  \\\n",
       "7      Amitriptyline  Migraine Prevention   \n",
       "117    Amitriptyline          ibromyalgia   \n",
       "395    Amitriptyline   Anxiety and Stress   \n",
       "404    Amitriptyline          ibromyalgia   \n",
       "1000   Amitriptyline          ibromyalgia   \n",
       "...              ...                  ...   \n",
       "53292  Amitriptyline  Migraine Prevention   \n",
       "53444  Amitriptyline  Migraine Prevention   \n",
       "53490  Amitriptyline   Anxiety and Stress   \n",
       "53520  Amitriptyline                 Pain   \n",
       "53524  Amitriptyline  Migraine Prevention   \n",
       "\n",
       "                                                  review  rating       date  \\\n",
       "7      \"This has been great for me. I&#039;ve been on...       9  21-Apr-09   \n",
       "117    \"I am a 66 year old post-premenopausal female ...       1  30-Nov-17   \n",
       "395    \"I&#039;ve only been taking this for a month. ...       4  13-Feb-14   \n",
       "404    \"I was just diagnosed with Fibromyalgia, was b...       2  17-Jan-11   \n",
       "1000   \"I had unrefreshing sleep, and needed a lot of...       9   9-May-12   \n",
       "...                                                  ...     ...        ...   \n",
       "53292  \"I had been taking propranolol for migraine pr...       9  20-Sep-13   \n",
       "53444  \"I have chronic Lyme disease and one of the wo...      10   4-Sep-14   \n",
       "53490  \"Started for sleep. No difference with headach...       3   2-Feb-17   \n",
       "53520  \"Took it for a few days but could not stay awa...       1  27-Nov-15   \n",
       "53524  \"Husband has turned in to a angry hulk. I know...       1   4-Sep-15   \n",
       "\n",
       "       usefulCount  \n",
       "7               32  \n",
       "117              0  \n",
       "395             62  \n",
       "404             46  \n",
       "1000           122  \n",
       "...            ...  \n",
       "53292           64  \n",
       "53444           65  \n",
       "53490           10  \n",
       "53520           20  \n",
       "53524           19  \n",
       "\n",
       "[225 rows x 6 columns]"
      ]
     },
     "execution_count": 39,
     "metadata": {},
     "output_type": "execute_result"
    }
   ],
   "source": [
    "drug_name3='Amitriptyline'\n",
    "filter=df['drugName']==drug_name3\n",
    "df[filter]"
   ]
  },
  {
   "cell_type": "code",
   "execution_count": 40,
   "id": "31a88af9-e18e-439d-bbba-3e6ae6d329f8",
   "metadata": {},
   "outputs": [
    {
     "data": {
      "text/plain": [
       "condition\n",
       "Migraine Prevention                      56\n",
       "Pain                                     42\n",
       "Insomnia                                 39\n",
       "ibromyalgia                              25\n",
       "Anxiety and Stress                       20\n",
       "Depression                               13\n",
       "Irritable Bowel Syndrome                 10\n",
       "Interstitial Cystitis                     5\n",
       "Cyclic Vomiting Syndrome                  4\n",
       "Post Traumatic Stress Disorde             2\n",
       "Reflex Sympathetic Dystrophy Syndrome     1\n",
       "Chronic Myofascial Pain                   1\n",
       "m Pain Disorde                            1\n",
       "Vulvodynia                                1\n",
       "Cough                                     1\n",
       "Not Listed / Othe                         1\n",
       "Somat                                     1\n",
       "Hyperhidrosis                             1\n",
       "Pudendal Neuralgia                        1\n",
       "Name: count, dtype: int64"
      ]
     },
     "execution_count": 40,
     "metadata": {},
     "output_type": "execute_result"
    }
   ],
   "source": [
    "df[filter]['condition'].value_counts()"
   ]
  },
  {
   "cell_type": "code",
   "execution_count": 41,
   "id": "4db67d8e-150e-4378-9623-bd8586394fe3",
   "metadata": {},
   "outputs": [],
   "source": [
    "#barchart\n",
    "amitriptyline_conditions=df[filter][['condition']].value_counts().rename_axis('unique_values').reset_index(name='counts')"
   ]
  },
  {
   "cell_type": "code",
   "execution_count": 42,
   "id": "b8724626-1861-40aa-bc00-0034ed1d8951",
   "metadata": {},
   "outputs": [
    {
     "data": {
      "text/html": [
       "<div>\n",
       "<style scoped>\n",
       "    .dataframe tbody tr th:only-of-type {\n",
       "        vertical-align: middle;\n",
       "    }\n",
       "\n",
       "    .dataframe tbody tr th {\n",
       "        vertical-align: top;\n",
       "    }\n",
       "\n",
       "    .dataframe thead th {\n",
       "        text-align: right;\n",
       "    }\n",
       "</style>\n",
       "<table border=\"1\" class=\"dataframe\">\n",
       "  <thead>\n",
       "    <tr style=\"text-align: right;\">\n",
       "      <th></th>\n",
       "      <th>unique_values</th>\n",
       "      <th>counts</th>\n",
       "    </tr>\n",
       "  </thead>\n",
       "  <tbody>\n",
       "    <tr>\n",
       "      <th>0</th>\n",
       "      <td>Migraine Prevention</td>\n",
       "      <td>56</td>\n",
       "    </tr>\n",
       "    <tr>\n",
       "      <th>1</th>\n",
       "      <td>Pain</td>\n",
       "      <td>42</td>\n",
       "    </tr>\n",
       "    <tr>\n",
       "      <th>2</th>\n",
       "      <td>Insomnia</td>\n",
       "      <td>39</td>\n",
       "    </tr>\n",
       "    <tr>\n",
       "      <th>3</th>\n",
       "      <td>ibromyalgia</td>\n",
       "      <td>25</td>\n",
       "    </tr>\n",
       "    <tr>\n",
       "      <th>4</th>\n",
       "      <td>Anxiety and Stress</td>\n",
       "      <td>20</td>\n",
       "    </tr>\n",
       "  </tbody>\n",
       "</table>\n",
       "</div>"
      ],
      "text/plain": [
       "         unique_values  counts\n",
       "0  Migraine Prevention      56\n",
       "1                 Pain      42\n",
       "2             Insomnia      39\n",
       "3          ibromyalgia      25\n",
       "4   Anxiety and Stress      20"
      ]
     },
     "execution_count": 42,
     "metadata": {},
     "output_type": "execute_result"
    }
   ],
   "source": [
    "amitriptyline_conditions.head(5)"
   ]
  },
  {
   "cell_type": "code",
   "execution_count": 43,
   "id": "a450ab9c-2a1f-48b4-bbc4-f642248bc0aa",
   "metadata": {},
   "outputs": [
    {
     "data": {
      "image/png": "[encoded data removed]",
      "text/plain": [
       "<Figure size 640x480 with 1 Axes>"
      ]
     },
     "metadata": {},
     "output_type": "display_data"
    }
   ],
   "source": [
    "sns.barplot(amitriptyline_conditions, x=\"counts\", y=\"unique_values\");"
   ]
  },
  {
   "cell_type": "markdown",
   "id": "8edce0fe-d464-44e3-bdd6-fe66ea4e65b5",
   "metadata": {},
   "source": [
    "In this datatset, amitriptyline is commonly used for:\n",
    "\n",
    "1. treating symptoms of depression\n",
    "2. treating symptoms of anxiety\n",
    "3. treating 'anxiety and stress'\n",
    "4. fibromyalgia\n",
    "5. and major despressive disorder\n",
    "\n",
    "It is less commonly used to treat:\n",
    "1. bulimia\n",
    "2. 'other' conditions\n",
    "3. muscular pain disorder\n",
    "4. irritable bowel syndrome\n",
    "5. and dissociateive identity disorder\n"
   ]
  },
  {
   "cell_type": "code",
   "execution_count": 44,
   "id": "837b0a07-670d-41d2-9830-11f16f6724ff",
   "metadata": {},
   "outputs": [
    {
     "data": {
      "text/html": [
       "<div>\n",
       "<style scoped>\n",
       "    .dataframe tbody tr th:only-of-type {\n",
       "        vertical-align: middle;\n",
       "    }\n",
       "\n",
       "    .dataframe tbody tr th {\n",
       "        vertical-align: top;\n",
       "    }\n",
       "\n",
       "    .dataframe thead th {\n",
       "        text-align: right;\n",
       "    }\n",
       "</style>\n",
       "<table border=\"1\" class=\"dataframe\">\n",
       "  <thead>\n",
       "    <tr style=\"text-align: right;\">\n",
       "      <th></th>\n",
       "      <th>drugName</th>\n",
       "      <th>condition</th>\n",
       "      <th>review</th>\n",
       "      <th>rating</th>\n",
       "      <th>date</th>\n",
       "      <th>usefulCount</th>\n",
       "    </tr>\n",
       "  </thead>\n",
       "  <tbody>\n",
       "    <tr>\n",
       "      <th>79</th>\n",
       "      <td>Venlafaxine</td>\n",
       "      <td>Depression</td>\n",
       "      <td>\"I was first prescribed Effexor 13 years ago a...</td>\n",
       "      <td>8</td>\n",
       "      <td>13-Dec-10</td>\n",
       "      <td>36</td>\n",
       "    </tr>\n",
       "    <tr>\n",
       "      <th>81</th>\n",
       "      <td>Venlafaxine</td>\n",
       "      <td>Depression</td>\n",
       "      <td>\"I took Effexor for the first and last time ye...</td>\n",
       "      <td>1</td>\n",
       "      <td>12-Oct-17</td>\n",
       "      <td>5</td>\n",
       "    </tr>\n",
       "    <tr>\n",
       "      <th>223</th>\n",
       "      <td>Venlafaxine</td>\n",
       "      <td>Depression</td>\n",
       "      <td>\"Horrible side effects! I tried Ciprelex (esci...</td>\n",
       "      <td>1</td>\n",
       "      <td>15-Jun-16</td>\n",
       "      <td>24</td>\n",
       "    </tr>\n",
       "    <tr>\n",
       "      <th>586</th>\n",
       "      <td>Venlafaxine</td>\n",
       "      <td>Major Depressive Disorde</td>\n",
       "      <td>\"I&amp;#039;ve been on Effexor xr for 2 weeks and ...</td>\n",
       "      <td>10</td>\n",
       "      <td>8-Jul-16</td>\n",
       "      <td>30</td>\n",
       "    </tr>\n",
       "    <tr>\n",
       "      <th>712</th>\n",
       "      <td>Venlafaxine</td>\n",
       "      <td>Anxiety</td>\n",
       "      <td>\"I suffered with severe anxiety, especially in...</td>\n",
       "      <td>9</td>\n",
       "      <td>23-Dec-13</td>\n",
       "      <td>22</td>\n",
       "    </tr>\n",
       "    <tr>\n",
       "      <th>...</th>\n",
       "      <td>...</td>\n",
       "      <td>...</td>\n",
       "      <td>...</td>\n",
       "      <td>...</td>\n",
       "      <td>...</td>\n",
       "      <td>...</td>\n",
       "    </tr>\n",
       "    <tr>\n",
       "      <th>52286</th>\n",
       "      <td>Venlafaxine</td>\n",
       "      <td>Generalized Anxiety Disorde</td>\n",
       "      <td>\"Changes my life for the better!\"</td>\n",
       "      <td>10</td>\n",
       "      <td>10-Mar-14</td>\n",
       "      <td>62</td>\n",
       "    </tr>\n",
       "    <tr>\n",
       "      <th>52683</th>\n",
       "      <td>Venlafaxine</td>\n",
       "      <td>Anxiety and Stress</td>\n",
       "      <td>\"I have multiple health issues and am very anx...</td>\n",
       "      <td>8</td>\n",
       "      <td>24-Apr-11</td>\n",
       "      <td>13</td>\n",
       "    </tr>\n",
       "    <tr>\n",
       "      <th>52904</th>\n",
       "      <td>Venlafaxine</td>\n",
       "      <td>Depression</td>\n",
       "      <td>\"Though the medication helped my depression, I...</td>\n",
       "      <td>3</td>\n",
       "      <td>22-Jan-17</td>\n",
       "      <td>2</td>\n",
       "    </tr>\n",
       "    <tr>\n",
       "      <th>52953</th>\n",
       "      <td>Venlafaxine</td>\n",
       "      <td>Depression</td>\n",
       "      <td>\"this med did its job reasonably. Didn&amp;#039;t ...</td>\n",
       "      <td>6</td>\n",
       "      <td>16-Aug-16</td>\n",
       "      <td>1</td>\n",
       "    </tr>\n",
       "    <tr>\n",
       "      <th>53618</th>\n",
       "      <td>Venlafaxine</td>\n",
       "      <td>Generalized Anxiety Disorde</td>\n",
       "      <td>\"I&amp;#039;m on 75mg venlafaxine but I&amp;#039;m goi...</td>\n",
       "      <td>5</td>\n",
       "      <td>10-Aug-17</td>\n",
       "      <td>1</td>\n",
       "    </tr>\n",
       "  </tbody>\n",
       "</table>\n",
       "<p>320 rows × 6 columns</p>\n",
       "</div>"
      ],
      "text/plain": [
       "          drugName                    condition  \\\n",
       "79     Venlafaxine                   Depression   \n",
       "81     Venlafaxine                   Depression   \n",
       "223    Venlafaxine                   Depression   \n",
       "586    Venlafaxine     Major Depressive Disorde   \n",
       "712    Venlafaxine                      Anxiety   \n",
       "...            ...                          ...   \n",
       "52286  Venlafaxine  Generalized Anxiety Disorde   \n",
       "52683  Venlafaxine           Anxiety and Stress   \n",
       "52904  Venlafaxine                   Depression   \n",
       "52953  Venlafaxine                   Depression   \n",
       "53618  Venlafaxine  Generalized Anxiety Disorde   \n",
       "\n",
       "                                                  review  rating       date  \\\n",
       "79     \"I was first prescribed Effexor 13 years ago a...       8  13-Dec-10   \n",
       "81     \"I took Effexor for the first and last time ye...       1  12-Oct-17   \n",
       "223    \"Horrible side effects! I tried Ciprelex (esci...       1  15-Jun-16   \n",
       "586    \"I&#039;ve been on Effexor xr for 2 weeks and ...      10   8-Jul-16   \n",
       "712    \"I suffered with severe anxiety, especially in...       9  23-Dec-13   \n",
       "...                                                  ...     ...        ...   \n",
       "52286                  \"Changes my life for the better!\"      10  10-Mar-14   \n",
       "52683  \"I have multiple health issues and am very anx...       8  24-Apr-11   \n",
       "52904  \"Though the medication helped my depression, I...       3  22-Jan-17   \n",
       "52953  \"this med did its job reasonably. Didn&#039;t ...       6  16-Aug-16   \n",
       "53618  \"I&#039;m on 75mg venlafaxine but I&#039;m goi...       5  10-Aug-17   \n",
       "\n",
       "       usefulCount  \n",
       "79              36  \n",
       "81               5  \n",
       "223             24  \n",
       "586             30  \n",
       "712             22  \n",
       "...            ...  \n",
       "52286           62  \n",
       "52683           13  \n",
       "52904            2  \n",
       "52953            1  \n",
       "53618            1  \n",
       "\n",
       "[320 rows x 6 columns]"
      ]
     },
     "execution_count": 44,
     "metadata": {},
     "output_type": "execute_result"
    }
   ],
   "source": [
    "drug_name4='Venlafaxine'\n",
    "filter=df['drugName']==drug_name4\n",
    "df[filter]"
   ]
  },
  {
   "cell_type": "code",
   "execution_count": 45,
   "id": "69f686f2-5e0d-4c5d-8e78-f1023d177781",
   "metadata": {},
   "outputs": [
    {
     "data": {
      "text/plain": [
       "condition\n",
       "Depression                       137\n",
       "Anxiety                           46\n",
       "Anxiety and Stress                26\n",
       "Generalized Anxiety Disorde       24\n",
       "ibromyalgia                       14\n",
       "Major Depressive Disorde          14\n",
       "Bipolar Disorde                   14\n",
       "Hot Flashes                       12\n",
       "Social Anxiety Disorde            11\n",
       "Panic Disorde                      7\n",
       "Postpartum Depression              4\n",
       "Post Traumatic Stress Disorde      4\n",
       "Obsessive Compulsive Disorde       2\n",
       "Irritable Bowel Syndrome           1\n",
       "Not Listed / Othe                  1\n",
       "m Pain Disorde                     1\n",
       "Dissociative Identity Disorde      1\n",
       "Bulimia                            1\n",
       "Name: count, dtype: int64"
      ]
     },
     "execution_count": 45,
     "metadata": {},
     "output_type": "execute_result"
    }
   ],
   "source": [
    "df[filter]['condition'].value_counts()"
   ]
  },
  {
   "cell_type": "code",
   "execution_count": 46,
   "id": "e2eb08a7-5063-4c9a-899f-603b89b114a0",
   "metadata": {},
   "outputs": [],
   "source": [
    "#barchart\n",
    "venlafaxine_conditions=df[filter][['condition']].value_counts().rename_axis('unique_values').reset_index(name='counts')"
   ]
  },
  {
   "cell_type": "code",
   "execution_count": 47,
   "id": "a9b24c7f-497d-4707-b65b-673fd4c9b582",
   "metadata": {},
   "outputs": [
    {
     "data": {
      "text/html": [
       "<div>\n",
       "<style scoped>\n",
       "    .dataframe tbody tr th:only-of-type {\n",
       "        vertical-align: middle;\n",
       "    }\n",
       "\n",
       "    .dataframe tbody tr th {\n",
       "        vertical-align: top;\n",
       "    }\n",
       "\n",
       "    .dataframe thead th {\n",
       "        text-align: right;\n",
       "    }\n",
       "</style>\n",
       "<table border=\"1\" class=\"dataframe\">\n",
       "  <thead>\n",
       "    <tr style=\"text-align: right;\">\n",
       "      <th></th>\n",
       "      <th>unique_values</th>\n",
       "      <th>counts</th>\n",
       "    </tr>\n",
       "  </thead>\n",
       "  <tbody>\n",
       "    <tr>\n",
       "      <th>0</th>\n",
       "      <td>Depression</td>\n",
       "      <td>137</td>\n",
       "    </tr>\n",
       "    <tr>\n",
       "      <th>1</th>\n",
       "      <td>Anxiety</td>\n",
       "      <td>46</td>\n",
       "    </tr>\n",
       "    <tr>\n",
       "      <th>2</th>\n",
       "      <td>Anxiety and Stress</td>\n",
       "      <td>26</td>\n",
       "    </tr>\n",
       "    <tr>\n",
       "      <th>3</th>\n",
       "      <td>Generalized Anxiety Disorde</td>\n",
       "      <td>24</td>\n",
       "    </tr>\n",
       "    <tr>\n",
       "      <th>4</th>\n",
       "      <td>ibromyalgia</td>\n",
       "      <td>14</td>\n",
       "    </tr>\n",
       "  </tbody>\n",
       "</table>\n",
       "</div>"
      ],
      "text/plain": [
       "                 unique_values  counts\n",
       "0                   Depression     137\n",
       "1                      Anxiety      46\n",
       "2           Anxiety and Stress      26\n",
       "3  Generalized Anxiety Disorde      24\n",
       "4                  ibromyalgia      14"
      ]
     },
     "execution_count": 47,
     "metadata": {},
     "output_type": "execute_result"
    }
   ],
   "source": [
    "venlafaxine_conditions.head(5)"
   ]
  },
  {
   "cell_type": "code",
   "execution_count": 48,
   "id": "2e1cfc2a-62da-4f74-abde-2d31c484700d",
   "metadata": {},
   "outputs": [
    {
     "data": {
      "image/png": "[encoded data removed]",
      "text/plain": [
       "<Figure size 640x480 with 1 Axes>"
      ]
     },
     "metadata": {},
     "output_type": "display_data"
    }
   ],
   "source": [
    "sns.barplot(venlafaxine_conditions, x=\"counts\", y=\"unique_values\");"
   ]
  },
  {
   "cell_type": "markdown",
   "id": "dda6ce0a-53fa-40bf-9fda-c8cea6fded1c",
   "metadata": {},
   "source": [
    "Venlafxaine is commonly used to treat:\n",
    "\n",
    "1. depression\n",
    "2. anxiety\n",
    "3. stress\n",
    "4. generalised anxiety disorder\n",
    "5. and fibromylagia\n"
   ]
  },
  {
   "cell_type": "code",
   "execution_count": 49,
   "id": "6966f4f5-267f-4b13-b585-113f3cda937b",
   "metadata": {},
   "outputs": [],
   "source": [
    "#are there any conditions treated by two or more drugs out of the top five?"
   ]
  },
  {
   "cell_type": "code",
   "execution_count": 50,
   "id": "b02a4160-3ef4-46a6-8201-e37fa21fb01b",
   "metadata": {},
   "outputs": [
    {
     "data": {
      "text/plain": [
       "drugName\n",
       "Levonorgestrel                       1265\n",
       "Etonogestrel                         1081\n",
       "Ethinyl estradiol / norethindrone     869\n",
       "Nexplanon                             736\n",
       "Ethinyl estradiol / norgestimate      649\n",
       "Name: count, dtype: int64"
      ]
     },
     "execution_count": 50,
     "metadata": {},
     "output_type": "execute_result"
    }
   ],
   "source": [
    "popular_drugs.head(5)"
   ]
  },
  {
   "cell_type": "code",
   "execution_count": 51,
   "id": "2fc787a5-ab8f-4e1c-8926-a930757e8c64",
   "metadata": {},
   "outputs": [],
   "source": [
    "top_drugs=popular_drugs.to_frame().reset_index()"
   ]
  },
  {
   "cell_type": "code",
   "execution_count": 52,
   "id": "6ae67372-230d-4ed7-a9b0-d95d8bca6bd3",
   "metadata": {},
   "outputs": [
    {
     "data": {
      "text/html": [
       "<div>\n",
       "<style scoped>\n",
       "    .dataframe tbody tr th:only-of-type {\n",
       "        vertical-align: middle;\n",
       "    }\n",
       "\n",
       "    .dataframe tbody tr th {\n",
       "        vertical-align: top;\n",
       "    }\n",
       "\n",
       "    .dataframe thead th {\n",
       "        text-align: right;\n",
       "    }\n",
       "</style>\n",
       "<table border=\"1\" class=\"dataframe\">\n",
       "  <thead>\n",
       "    <tr style=\"text-align: right;\">\n",
       "      <th></th>\n",
       "      <th>drugName</th>\n",
       "      <th>count</th>\n",
       "    </tr>\n",
       "  </thead>\n",
       "  <tbody>\n",
       "    <tr>\n",
       "      <th>0</th>\n",
       "      <td>Levonorgestrel</td>\n",
       "      <td>1265</td>\n",
       "    </tr>\n",
       "    <tr>\n",
       "      <th>1</th>\n",
       "      <td>Etonogestrel</td>\n",
       "      <td>1081</td>\n",
       "    </tr>\n",
       "    <tr>\n",
       "      <th>2</th>\n",
       "      <td>Ethinyl estradiol / norethindrone</td>\n",
       "      <td>869</td>\n",
       "    </tr>\n",
       "    <tr>\n",
       "      <th>3</th>\n",
       "      <td>Nexplanon</td>\n",
       "      <td>736</td>\n",
       "    </tr>\n",
       "    <tr>\n",
       "      <th>4</th>\n",
       "      <td>Ethinyl estradiol / norgestimate</td>\n",
       "      <td>649</td>\n",
       "    </tr>\n",
       "  </tbody>\n",
       "</table>\n",
       "</div>"
      ],
      "text/plain": [
       "                            drugName  count\n",
       "0                     Levonorgestrel   1265\n",
       "1                       Etonogestrel   1081\n",
       "2  Ethinyl estradiol / norethindrone    869\n",
       "3                          Nexplanon    736\n",
       "4   Ethinyl estradiol / norgestimate    649"
      ]
     },
     "execution_count": 52,
     "metadata": {},
     "output_type": "execute_result"
    }
   ],
   "source": [
    "top_drugs.head()"
   ]
  },
  {
   "cell_type": "markdown",
   "id": "7488e07b-7ea8-483c-91fd-078494576a68",
   "metadata": {},
   "source": [
    "The most common drugs in this dataset are:\n",
    "\n",
    "1. levonorgestrel\n",
    "2. etonogestrel\n",
    "3. ethninyl estradiol/northindrone\n",
    "4. nexplanon\n",
    "5. ethinyl estradiol/norgestimate\n",
    "\n",
    "All five drugs are hormones used for birth control. One drug is listed by its brand name - Nexplanon. The other four are listed by their generic names."
   ]
  },
  {
   "cell_type": "code",
   "execution_count": 53,
   "id": "24f954e7-15f9-41d3-87c4-60cf4023c9e9",
   "metadata": {},
   "outputs": [
    {
     "data": {
      "text/plain": [
       "<Axes: ylabel='condition'>"
      ]
     },
     "execution_count": 53,
     "metadata": {},
     "output_type": "execute_result"
    },
    {
     "data": {
      "image/png": "[encoded data removed]",
      "text/plain": [
       "<Figure size 640x480 with 1 Axes>"
      ]
     },
     "metadata": {},
     "output_type": "display_data"
    }
   ],
   "source": [
    "drug_data_df.groupby('condition')['drugName'].nunique().sort_values(ascending=False)[:10].plot(kind=\"barh\")"
   ]
  },
  {
   "cell_type": "markdown",
   "id": "b4f999e7-e4e3-432b-ab95-960cd4c1ad7b",
   "metadata": {},
   "source": [
    "From this dataset, clincial indications such as pain, birth control and high blood pressure are treated or managed by more than one drug."
   ]
  },
  {
   "cell_type": "markdown",
   "id": "c7e0a67e-9cef-4a2f-a385-02cee4ac45fa",
   "metadata": {},
   "source": [
    "CONCLUSION\n"
   ]
  },
  {
   "cell_type": "markdown",
   "id": "2a060519-48e7-4e92-ab90-94a6ec7c712f",
   "metadata": {},
   "source": [
    "Tokenization.\n",
    "\n",
    "This is the first step in many NLP processes. This process pulls apart text into small chunks of words or sentences. We label these as tokens. By analysing words in a sentence we can find meaning in large volumes of data - the data being reviews from a drug subset."
   ]
  },
  {
   "cell_type": "code",
   "execution_count": 54,
   "id": "67a8bd30-a0b4-4140-b041-f349d895c1ac",
   "metadata": {},
   "outputs": [
    {
     "data": {
      "text/html": [
       "<div>\n",
       "<style scoped>\n",
       "    .dataframe tbody tr th:only-of-type {\n",
       "        vertical-align: middle;\n",
       "    }\n",
       "\n",
       "    .dataframe tbody tr th {\n",
       "        vertical-align: top;\n",
       "    }\n",
       "\n",
       "    .dataframe thead th {\n",
       "        text-align: right;\n",
       "    }\n",
       "</style>\n",
       "<table border=\"1\" class=\"dataframe\">\n",
       "  <thead>\n",
       "    <tr style=\"text-align: right;\">\n",
       "      <th></th>\n",
       "      <th>drugName</th>\n",
       "      <th>condition</th>\n",
       "      <th>review</th>\n",
       "      <th>rating</th>\n",
       "      <th>date</th>\n",
       "      <th>usefulCount</th>\n",
       "    </tr>\n",
       "  </thead>\n",
       "  <tbody>\n",
       "    <tr>\n",
       "      <th>79</th>\n",
       "      <td>Venlafaxine</td>\n",
       "      <td>Depression</td>\n",
       "      <td>\"I was first prescribed Effexor 13 years ago a...</td>\n",
       "      <td>8</td>\n",
       "      <td>13-Dec-10</td>\n",
       "      <td>36</td>\n",
       "    </tr>\n",
       "    <tr>\n",
       "      <th>81</th>\n",
       "      <td>Venlafaxine</td>\n",
       "      <td>Depression</td>\n",
       "      <td>\"I took Effexor for the first and last time ye...</td>\n",
       "      <td>1</td>\n",
       "      <td>12-Oct-17</td>\n",
       "      <td>5</td>\n",
       "    </tr>\n",
       "    <tr>\n",
       "      <th>223</th>\n",
       "      <td>Venlafaxine</td>\n",
       "      <td>Depression</td>\n",
       "      <td>\"Horrible side effects! I tried Ciprelex (esci...</td>\n",
       "      <td>1</td>\n",
       "      <td>15-Jun-16</td>\n",
       "      <td>24</td>\n",
       "    </tr>\n",
       "    <tr>\n",
       "      <th>586</th>\n",
       "      <td>Venlafaxine</td>\n",
       "      <td>Major Depressive Disorde</td>\n",
       "      <td>\"I&amp;#039;ve been on Effexor xr for 2 weeks and ...</td>\n",
       "      <td>10</td>\n",
       "      <td>8-Jul-16</td>\n",
       "      <td>30</td>\n",
       "    </tr>\n",
       "    <tr>\n",
       "      <th>712</th>\n",
       "      <td>Venlafaxine</td>\n",
       "      <td>Anxiety</td>\n",
       "      <td>\"I suffered with severe anxiety, especially in...</td>\n",
       "      <td>9</td>\n",
       "      <td>23-Dec-13</td>\n",
       "      <td>22</td>\n",
       "    </tr>\n",
       "    <tr>\n",
       "      <th>...</th>\n",
       "      <td>...</td>\n",
       "      <td>...</td>\n",
       "      <td>...</td>\n",
       "      <td>...</td>\n",
       "      <td>...</td>\n",
       "      <td>...</td>\n",
       "    </tr>\n",
       "    <tr>\n",
       "      <th>52286</th>\n",
       "      <td>Venlafaxine</td>\n",
       "      <td>Generalized Anxiety Disorde</td>\n",
       "      <td>\"Changes my life for the better!\"</td>\n",
       "      <td>10</td>\n",
       "      <td>10-Mar-14</td>\n",
       "      <td>62</td>\n",
       "    </tr>\n",
       "    <tr>\n",
       "      <th>52683</th>\n",
       "      <td>Venlafaxine</td>\n",
       "      <td>Anxiety and Stress</td>\n",
       "      <td>\"I have multiple health issues and am very anx...</td>\n",
       "      <td>8</td>\n",
       "      <td>24-Apr-11</td>\n",
       "      <td>13</td>\n",
       "    </tr>\n",
       "    <tr>\n",
       "      <th>52904</th>\n",
       "      <td>Venlafaxine</td>\n",
       "      <td>Depression</td>\n",
       "      <td>\"Though the medication helped my depression, I...</td>\n",
       "      <td>3</td>\n",
       "      <td>22-Jan-17</td>\n",
       "      <td>2</td>\n",
       "    </tr>\n",
       "    <tr>\n",
       "      <th>52953</th>\n",
       "      <td>Venlafaxine</td>\n",
       "      <td>Depression</td>\n",
       "      <td>\"this med did its job reasonably. Didn&amp;#039;t ...</td>\n",
       "      <td>6</td>\n",
       "      <td>16-Aug-16</td>\n",
       "      <td>1</td>\n",
       "    </tr>\n",
       "    <tr>\n",
       "      <th>53618</th>\n",
       "      <td>Venlafaxine</td>\n",
       "      <td>Generalized Anxiety Disorde</td>\n",
       "      <td>\"I&amp;#039;m on 75mg venlafaxine but I&amp;#039;m goi...</td>\n",
       "      <td>5</td>\n",
       "      <td>10-Aug-17</td>\n",
       "      <td>1</td>\n",
       "    </tr>\n",
       "  </tbody>\n",
       "</table>\n",
       "<p>320 rows × 6 columns</p>\n",
       "</div>"
      ],
      "text/plain": [
       "          drugName                    condition  \\\n",
       "79     Venlafaxine                   Depression   \n",
       "81     Venlafaxine                   Depression   \n",
       "223    Venlafaxine                   Depression   \n",
       "586    Venlafaxine     Major Depressive Disorde   \n",
       "712    Venlafaxine                      Anxiety   \n",
       "...            ...                          ...   \n",
       "52286  Venlafaxine  Generalized Anxiety Disorde   \n",
       "52683  Venlafaxine           Anxiety and Stress   \n",
       "52904  Venlafaxine                   Depression   \n",
       "52953  Venlafaxine                   Depression   \n",
       "53618  Venlafaxine  Generalized Anxiety Disorde   \n",
       "\n",
       "                                                  review  rating       date  \\\n",
       "79     \"I was first prescribed Effexor 13 years ago a...       8  13-Dec-10   \n",
       "81     \"I took Effexor for the first and last time ye...       1  12-Oct-17   \n",
       "223    \"Horrible side effects! I tried Ciprelex (esci...       1  15-Jun-16   \n",
       "586    \"I&#039;ve been on Effexor xr for 2 weeks and ...      10   8-Jul-16   \n",
       "712    \"I suffered with severe anxiety, especially in...       9  23-Dec-13   \n",
       "...                                                  ...     ...        ...   \n",
       "52286                  \"Changes my life for the better!\"      10  10-Mar-14   \n",
       "52683  \"I have multiple health issues and am very anx...       8  24-Apr-11   \n",
       "52904  \"Though the medication helped my depression, I...       3  22-Jan-17   \n",
       "52953  \"this med did its job reasonably. Didn&#039;t ...       6  16-Aug-16   \n",
       "53618  \"I&#039;m on 75mg venlafaxine but I&#039;m goi...       5  10-Aug-17   \n",
       "\n",
       "       usefulCount  \n",
       "79              36  \n",
       "81               5  \n",
       "223             24  \n",
       "586             30  \n",
       "712             22  \n",
       "...            ...  \n",
       "52286           62  \n",
       "52683           13  \n",
       "52904            2  \n",
       "52953            1  \n",
       "53618            1  \n",
       "\n",
       "[320 rows x 6 columns]"
      ]
     },
     "execution_count": 54,
     "metadata": {},
     "output_type": "execute_result"
    }
   ],
   "source": [
    "drug_name4='Venlafaxine'\n",
    "filter=df['drugName']==drug_name4\n",
    "df[filter]"
   ]
  },
  {
   "cell_type": "code",
   "execution_count": 55,
   "id": "bb9db55f-e3af-4fad-b51f-86c1f9e2179e",
   "metadata": {},
   "outputs": [],
   "source": [
    "nlp_drug=df[filter]"
   ]
  },
  {
   "cell_type": "code",
   "execution_count": 56,
   "id": "0c515e23-4d16-49dd-80b7-658573a866fd",
   "metadata": {},
   "outputs": [
    {
     "data": {
      "text/html": [
       "<div>\n",
       "<style scoped>\n",
       "    .dataframe tbody tr th:only-of-type {\n",
       "        vertical-align: middle;\n",
       "    }\n",
       "\n",
       "    .dataframe tbody tr th {\n",
       "        vertical-align: top;\n",
       "    }\n",
       "\n",
       "    .dataframe thead th {\n",
       "        text-align: right;\n",
       "    }\n",
       "</style>\n",
       "<table border=\"1\" class=\"dataframe\">\n",
       "  <thead>\n",
       "    <tr style=\"text-align: right;\">\n",
       "      <th></th>\n",
       "      <th>drugName</th>\n",
       "      <th>condition</th>\n",
       "      <th>review</th>\n",
       "      <th>rating</th>\n",
       "      <th>date</th>\n",
       "      <th>usefulCount</th>\n",
       "    </tr>\n",
       "  </thead>\n",
       "  <tbody>\n",
       "    <tr>\n",
       "      <th>79</th>\n",
       "      <td>Venlafaxine</td>\n",
       "      <td>Depression</td>\n",
       "      <td>\"I was first prescribed Effexor 13 years ago a...</td>\n",
       "      <td>8</td>\n",
       "      <td>13-Dec-10</td>\n",
       "      <td>36</td>\n",
       "    </tr>\n",
       "    <tr>\n",
       "      <th>81</th>\n",
       "      <td>Venlafaxine</td>\n",
       "      <td>Depression</td>\n",
       "      <td>\"I took Effexor for the first and last time ye...</td>\n",
       "      <td>1</td>\n",
       "      <td>12-Oct-17</td>\n",
       "      <td>5</td>\n",
       "    </tr>\n",
       "    <tr>\n",
       "      <th>223</th>\n",
       "      <td>Venlafaxine</td>\n",
       "      <td>Depression</td>\n",
       "      <td>\"Horrible side effects! I tried Ciprelex (esci...</td>\n",
       "      <td>1</td>\n",
       "      <td>15-Jun-16</td>\n",
       "      <td>24</td>\n",
       "    </tr>\n",
       "    <tr>\n",
       "      <th>586</th>\n",
       "      <td>Venlafaxine</td>\n",
       "      <td>Major Depressive Disorde</td>\n",
       "      <td>\"I&amp;#039;ve been on Effexor xr for 2 weeks and ...</td>\n",
       "      <td>10</td>\n",
       "      <td>8-Jul-16</td>\n",
       "      <td>30</td>\n",
       "    </tr>\n",
       "    <tr>\n",
       "      <th>712</th>\n",
       "      <td>Venlafaxine</td>\n",
       "      <td>Anxiety</td>\n",
       "      <td>\"I suffered with severe anxiety, especially in...</td>\n",
       "      <td>9</td>\n",
       "      <td>23-Dec-13</td>\n",
       "      <td>22</td>\n",
       "    </tr>\n",
       "  </tbody>\n",
       "</table>\n",
       "</div>"
      ],
      "text/plain": [
       "        drugName                 condition  \\\n",
       "79   Venlafaxine                Depression   \n",
       "81   Venlafaxine                Depression   \n",
       "223  Venlafaxine                Depression   \n",
       "586  Venlafaxine  Major Depressive Disorde   \n",
       "712  Venlafaxine                   Anxiety   \n",
       "\n",
       "                                                review  rating       date  \\\n",
       "79   \"I was first prescribed Effexor 13 years ago a...       8  13-Dec-10   \n",
       "81   \"I took Effexor for the first and last time ye...       1  12-Oct-17   \n",
       "223  \"Horrible side effects! I tried Ciprelex (esci...       1  15-Jun-16   \n",
       "586  \"I&#039;ve been on Effexor xr for 2 weeks and ...      10   8-Jul-16   \n",
       "712  \"I suffered with severe anxiety, especially in...       9  23-Dec-13   \n",
       "\n",
       "     usefulCount  \n",
       "79            36  \n",
       "81             5  \n",
       "223           24  \n",
       "586           30  \n",
       "712           22  "
      ]
     },
     "execution_count": 56,
     "metadata": {},
     "output_type": "execute_result"
    }
   ],
   "source": [
    "nlp_drug.head(5)"
   ]
  },
  {
   "cell_type": "code",
   "execution_count": 57,
   "id": "d4812fb2-4ada-427c-95c1-1c760608f3fa",
   "metadata": {},
   "outputs": [],
   "source": [
    "import re\n",
    "from collections import Counter\n",
    "import spacy\n",
    "\n",
    "def count_tokens(text):\n",
    "    spacy_nlp = spacy.blank(\"en\")\n",
    "    text=re.sub('[^A-Za-z0-9.,!?/:;\\\"\\'\\s]+',' ',text)\n",
    "    doc = spacy_nlp(text.lower())\n",
    "    out = Counter([tok.text for tok in doc])\n",
    "    total_tokens = len(out.keys())\n",
    "    return total_tokens, out"
   ]
  },
  {
   "cell_type": "code",
   "execution_count": 58,
   "id": "6c677479-96b7-4176-8d86-812976ddd15e",
   "metadata": {},
   "outputs": [
    {
     "name": "stdout",
     "output_type": "stream",
     "text": [
      "79       (92, {'\"': 2, 'i': 14, 'was': 7, 'first': 3, '...\n",
      "81       (79, {'\"': 2, 'i': 8, 'took': 1, 'effexor': 1,...\n",
      "223      (97, {'\"': 2, 'horrible': 1, 'side': 2, 'effec...\n",
      "586      (61, {'\"': 2, 'i': 6, '039;ve': 1, 'been': 2, ...\n",
      "712      (69, {'\"': 2, 'i': 5, 'suffered': 1, 'with': 1...\n",
      "                               ...                        \n",
      "52286    (8, {'\"': 2, 'changes': 1, 'my': 1, 'life': 1,...\n",
      "52683    (106, {'\"': 2, 'i': 5, 'have': 3, 'multiple': ...\n",
      "52904    (57, {'\"': 2, 'though': 1, 'the': 3, 'medicati...\n",
      "52953    (99, {'\"': 2, 'this': 1, 'med': 1, 'did': 2, '...\n",
      "53618    (26, {'\"': 2, 'i': 3, '039;m': 3, 'on': 1, '75...\n",
      "Name: tokens_count, Length: 320, dtype: object\n"
     ]
    },
    {
     "name": "stderr",
     "output_type": "stream",
     "text": [
      "/var/folders/z4/y29hfzpj47dd0krx452vm5940000gn/T/ipykernel_1029/2936175458.py:1: SettingWithCopyWarning: \n",
      "A value is trying to be set on a copy of a slice from a DataFrame.\n",
      "Try using .loc[row_indexer,col_indexer] = value instead\n",
      "\n",
      "See the caveats in the documentation: https://pandas.pydata.org/pandas-docs/stable/user_guide/indexing.html#returning-a-view-versus-a-copy\n",
      "  nlp_drug[\"tokens_count\"]=nlp_drug[\"review\"].apply(count_tokens)\n"
     ]
    }
   ],
   "source": [
    "nlp_drug[\"tokens_count\"]=nlp_drug[\"review\"].apply(count_tokens)\n",
    "print(nlp_drug[\"tokens_count\"])"
   ]
  },
  {
   "cell_type": "code",
   "execution_count": 59,
   "id": "dbb97e7e-5f54-43f9-8963-327f8ca751e2",
   "metadata": {},
   "outputs": [],
   "source": [
    "text=nlp_drug[\"tokens_count\"]"
   ]
  },
  {
   "cell_type": "code",
   "execution_count": 60,
   "id": "e5902061-599f-4a7b-98ba-0994455a7e52",
   "metadata": {},
   "outputs": [
    {
     "data": {
      "text/plain": [
       "79     (92, {'\"': 2, 'i': 14, 'was': 7, 'first': 3, '...\n",
       "81     (79, {'\"': 2, 'i': 8, 'took': 1, 'effexor': 1,...\n",
       "223    (97, {'\"': 2, 'horrible': 1, 'side': 2, 'effec...\n",
       "586    (61, {'\"': 2, 'i': 6, '039;ve': 1, 'been': 2, ...\n",
       "712    (69, {'\"': 2, 'i': 5, 'suffered': 1, 'with': 1...\n",
       "Name: tokens_count, dtype: object"
      ]
     },
     "execution_count": 60,
     "metadata": {},
     "output_type": "execute_result"
    }
   ],
   "source": [
    "text.head(5)"
   ]
  },
  {
   "cell_type": "code",
   "execution_count": 61,
   "id": "c455eddd-eb22-4333-b9f0-f870224c33b5",
   "metadata": {},
   "outputs": [
    {
     "name": "stdout",
     "output_type": "stream",
     "text": [
      "79       (92, {'\"': 2, 'i': 14, 'was': 7, 'first': 3, '...\n",
      "81       (79, {'\"': 2, 'i': 8, 'took': 1, 'effexor': 1,...\n",
      "223      (97, {'\"': 2, 'horrible': 1, 'side': 2, 'effec...\n",
      "586      (61, {'\"': 2, 'i': 6, '039;ve': 1, 'been': 2, ...\n",
      "712      (69, {'\"': 2, 'i': 5, 'suffered': 1, 'with': 1...\n",
      "                               ...                        \n",
      "52286    (8, {'\"': 2, 'changes': 1, 'my': 1, 'life': 1,...\n",
      "52683    (106, {'\"': 2, 'i': 5, 'have': 3, 'multiple': ...\n",
      "52904    (57, {'\"': 2, 'though': 1, 'the': 3, 'medicati...\n",
      "52953    (99, {'\"': 2, 'this': 1, 'med': 1, 'did': 2, '...\n",
      "53618    (26, {'\"': 2, 'i': 3, '039;m': 3, 'on': 1, '75...\n",
      "Name: tokens_count, Length: 320, dtype: object\n"
     ]
    }
   ],
   "source": [
    "#†o tokenize text\n",
    "def to_lowercase(text):\n",
    "    return text.lower()\n",
    "\n",
    "print(text)"
   ]
  },
  {
   "cell_type": "code",
   "execution_count": 62,
   "id": "7dc744d9-6af6-43b8-b6ce-087ba76995b5",
   "metadata": {},
   "outputs": [
    {
     "name": "stdout",
     "output_type": "stream",
     "text": [
      "79       (92, {'\"': 2, 'i': 14, 'was': 7, 'first': 3, '...\n",
      "81       (79, {'\"': 2, 'i': 8, 'took': 1, 'effexor': 1,...\n",
      "223      (97, {'\"': 2, 'horrible': 1, 'side': 2, 'effec...\n",
      "586      (61, {'\"': 2, 'i': 6, '039;ve': 1, 'been': 2, ...\n",
      "712      (69, {'\"': 2, 'i': 5, 'suffered': 1, 'with': 1...\n",
      "                               ...                        \n",
      "52286    (8, {'\"': 2, 'changes': 1, 'my': 1, 'life': 1,...\n",
      "52683    (106, {'\"': 2, 'i': 5, 'have': 3, 'multiple': ...\n",
      "52904    (57, {'\"': 2, 'though': 1, 'the': 3, 'medicati...\n",
      "52953    (99, {'\"': 2, 'this': 1, 'med': 1, 'did': 2, '...\n",
      "53618    (26, {'\"': 2, 'i': 3, '039;m': 3, 'on': 1, '75...\n",
      "Name: tokens_count, Length: 320, dtype: object\n"
     ]
    }
   ],
   "source": [
    "def remove_numbers(text):\n",
    "    pattern=r'[^a-zA-z.,!?/:;\\\"\\'\\s]'\n",
    "    return re.sub(pattern, '', text)\n",
    "print(text)"
   ]
  },
  {
   "cell_type": "code",
   "execution_count": 63,
   "id": "61b5d821-1a9f-4dd6-bfc3-a233a02f6bd2",
   "metadata": {},
   "outputs": [
    {
     "name": "stdout",
     "output_type": "stream",
     "text": [
      "79       (92, {'\"': 2, 'i': 14, 'was': 7, 'first': 3, '...\n",
      "81       (79, {'\"': 2, 'i': 8, 'took': 1, 'effexor': 1,...\n",
      "223      (97, {'\"': 2, 'horrible': 1, 'side': 2, 'effec...\n",
      "586      (61, {'\"': 2, 'i': 6, '039;ve': 1, 'been': 2, ...\n",
      "712      (69, {'\"': 2, 'i': 5, 'suffered': 1, 'with': 1...\n",
      "                               ...                        \n",
      "52286    (8, {'\"': 2, 'changes': 1, 'my': 1, 'life': 1,...\n",
      "52683    (106, {'\"': 2, 'i': 5, 'have': 3, 'multiple': ...\n",
      "52904    (57, {'\"': 2, 'though': 1, 'the': 3, 'medicati...\n",
      "52953    (99, {'\"': 2, 'this': 1, 'med': 1, 'did': 2, '...\n",
      "53618    (26, {'\"': 2, 'i': 3, '039;m': 3, 'on': 1, '75...\n",
      "Name: tokens_count, Length: 320, dtype: object\n"
     ]
    }
   ],
   "source": [
    "def lemmatize(text, nlp):\n",
    "    doc=nlp(text)\n",
    "    lemmatized_text=[]\n",
    "    for token in doc:\n",
    "        lemmatized_text.append(token.lemma_)\n",
    "    return \" \".join(lemmatized_text)\n",
    "print(text)"
   ]
  },
  {
   "cell_type": "code",
   "execution_count": 64,
   "id": "bbf99cf7-fd81-42e6-9620-2383035c57a9",
   "metadata": {},
   "outputs": [
    {
     "name": "stdout",
     "output_type": "stream",
     "text": [
      "79       (92, {'\"': 2, 'i': 14, 'was': 7, 'first': 3, '...\n",
      "81       (79, {'\"': 2, 'i': 8, 'took': 1, 'effexor': 1,...\n",
      "223      (97, {'\"': 2, 'horrible': 1, 'side': 2, 'effec...\n",
      "586      (61, {'\"': 2, 'i': 6, '039;ve': 1, 'been': 2, ...\n",
      "712      (69, {'\"': 2, 'i': 5, 'suffered': 1, 'with': 1...\n",
      "                               ...                        \n",
      "52286    (8, {'\"': 2, 'changes': 1, 'my': 1, 'life': 1,...\n",
      "52683    (106, {'\"': 2, 'i': 5, 'have': 3, 'multiple': ...\n",
      "52904    (57, {'\"': 2, 'though': 1, 'the': 3, 'medicati...\n",
      "52953    (99, {'\"': 2, 'this': 1, 'med': 1, 'did': 2, '...\n",
      "53618    (26, {'\"': 2, 'i': 3, '039;m': 3, 'on': 1, '75...\n",
      "Name: tokens_count, Length: 320, dtype: object\n"
     ]
    }
   ],
   "source": [
    "#remove stopwords\n",
    "def remove_stopwords(text,nlp):\n",
    "    filtered_sentence=[]\n",
    "    doc=nlp(text)\n",
    "    for token in doc:\n",
    "        if token.is_stop==False:\n",
    "            filtered_sentence.append(token.text)\n",
    "    return \" \".join(filtered_sentence)\n",
    "nlp=spacy.load(\"en_core_web_sm\", disable=[\"parser\", \"ner\"])\n",
    "\n",
    "print(text)"
   ]
  },
  {
   "cell_type": "code",
   "execution_count": 65,
   "id": "be3b9076-dea9-47b4-939c-83fd9621edc2",
   "metadata": {},
   "outputs": [],
   "source": [
    "#from collections import Counter\n",
    "#import spacy\n",
    "\n"
   ]
  },
  {
   "cell_type": "code",
   "execution_count": null,
   "id": "e71b2ecc-6063-42e1-a0c4-7ae81da4405d",
   "metadata": {},
   "outputs": [],
   "source": []
  },
  {
   "cell_type": "code",
   "execution_count": 66,
   "id": "a3c16a16-8471-4b01-bac0-7dd76f0030c2",
   "metadata": {},
   "outputs": [],
   "source": [
    "#token_list=[]\n",
    "#for token in my_doc:\n",
    "    #token_list.append(token.text)\n",
    "\n",
    "#print(token_list)"
   ]
  },
  {
   "cell_type": "code",
   "execution_count": 67,
   "id": "9456797d-7352-4627-b31a-eb4ef6ed31ff",
   "metadata": {},
   "outputs": [],
   "source": [
    "#from collections import Counter\n",
    "#import spacy\n",
    "\n",
    "#spacy_nlp=spacy.blank(\"en\")\n",
    "#doc=spacy_nlp(\"this is text, this is text\")\n",
    "#out=Counter([tok.text for tok in doc])\n",
    "#out.keys()\n",
    "#len(out.keys())"
   ]
  },
  {
   "cell_type": "code",
   "execution_count": 68,
   "id": "5117d8d7-d957-4624-976a-c6f0ce8358e5",
   "metadata": {},
   "outputs": [],
   "source": [
    "#def count_tokens(text):\n",
    "#   spacy_nlp = spacy.blank(\"en\")\n",
    "#  doc = spacy_nlp(text.lower())\n",
    "#   out = Counter([tok.text for tok in doc])\n",
    "#    total_tokens = len(out.keys())\n",
    "#    return total_tokens, out"
   ]
  },
  {
   "cell_type": "code",
   "execution_count": null,
   "id": "6c8f52d6-644a-4ff8-8747-54a043fbd9a4",
   "metadata": {},
   "outputs": [],
   "source": []
  },
  {
   "cell_type": "code",
   "execution_count": 69,
   "id": "d5bb4fa7-5ba3-4c33-8348-336e5acda041",
   "metadata": {},
   "outputs": [],
   "source": [
    "#drug_data_df.head(2)"
   ]
  },
  {
   "cell_type": "code",
   "execution_count": null,
   "id": "37f0ad24-1b77-4115-85c4-9b9504459bac",
   "metadata": {},
   "outputs": [],
   "source": []
  },
  {
   "cell_type": "code",
   "execution_count": 70,
   "id": "4682aee5-209f-4d0d-bf34-d749eeb0056c",
   "metadata": {},
   "outputs": [],
   "source": [
    "#drug_data_df[['total_tokens', 'tokens']]=drug_data_df['review'].apply(count_tokens)"
   ]
  },
  {
   "cell_type": "code",
   "execution_count": null,
   "id": "e27088d0-73ed-493e-a27c-56062fff01b0",
   "metadata": {},
   "outputs": [],
   "source": []
  }
 ],
 "metadata": {
  "kernelspec": {
   "display_name": "Python 3 (ipykernel)",
   "language": "python",
   "name": "python3"
  },
  "language_info": {
   "codemirror_mode": {
    "name": "ipython",
    "version": 3
   },
   "file_extension": ".py",
   "mimetype": "text/x-python",
   "name": "python",
   "nbconvert_exporter": "python",
   "pygments_lexer": "ipython3",
   "version": "3.11.7"
  }
 },
 "nbformat": 4,
 "nbformat_minor": 5
}
